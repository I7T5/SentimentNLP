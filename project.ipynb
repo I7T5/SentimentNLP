{
 "cells": [
  {
   "cell_type": "markdown",
   "metadata": {},
   "source": [
    "# Research Project\n",
    "COMP 435 Introduction to Machine Learning, Spring 2025\n",
    "\n",
    "- Instructor: Jon Hutchins\n",
    "- Author: Ina Tang\n",
    "- Dataset: Sentiment140 on [Kaggle](https://www.kaggle.com/datasets/kazanova/sentiment140/data)\n",
    "- Citation: Go, A., Bhayani, R. and Huang, L., 2009. Twitter sentiment classification using distant supervision. CS224N Project Report, Stanford, 1(2009), p.12.\n",
    "\n",
    "> Just 75% accuracy would be good... – Dr. Hutchins\n",
    "\n",
    "### Schema\n",
    "- target: the polarity of the tweet (0 = negative, 4 = positive)\n",
    "- ids: The id of the tweet ( 2087)\n",
    "- date: the date of the tweet (Sat May 16 23:58:44 UTC 2009)\n",
    "- flag: The query (lyx). If there is no query, then this value is NO_QUERY. \n",
    "- user: the user that tweeted (robotickilldozr)\n",
    "- text: the text of the tweet (Lyx is cool)\n",
    "\n",
    "### Ideas\n",
    "\n",
    "- [x] Proportions of + and -\n",
    "- [x] Total frequency of word\n",
    "    - [x] remove pronouns, prepositions, conjunctions, article adjectives, etc. ?\n",
    "    - [x] cutoff for words with (say) less than 1% frequency \n",
    "- [x] Correlation between word and each label (porportions)\n",
    "- [ ] Affect of capitalization and punctuations on prediction\n",
    "- [ ] Use deep neural network(s) to identify strong FPs and FNs (weird data points)\n",
    "- [ ] (Synthesized feature) Certain collection(s) of words that strongly correlates with one of the labels\n",
    "\n",
    "\n",
    "### Previous labs\n",
    "- [Linear Regression with a Real Dataset](https://colab.research.google.com/github/google/eng-edu/blob/main/ml/cc/exercises/linear_regression_with_a_real_dataset.ipynb)\n",
    "- [Linear Regression with Synthetic Data](https://colab.research.google.com/github/google/eng-edu/blob/main/ml/cc/exercises/linear_regression_with_synthetic_data.ipynb)\n",
    "- [Logistic Regression](https://colab.research.google.com/github/tensorflow/docs/blob/master/site/en/guide/core/logistic_regression_core.ipynb)"
   ]
  },
  {
   "cell_type": "markdown",
   "metadata": {},
   "source": [
    "## Setup"
   ]
  },
  {
   "cell_type": "code",
   "execution_count": 84,
   "metadata": {},
   "outputs": [],
   "source": [
    "# pip install numpy pandas matplotlib seaborn  # torch"
   ]
  },
  {
   "cell_type": "code",
   "execution_count": 85,
   "metadata": {},
   "outputs": [],
   "source": [
    "import numpy as np\n",
    "import pandas as pd\n",
    "# import torch\n",
    "import matplotlib.pyplot as plt\n",
    "import seaborn as sns  # sns.pairplot\n",
    "\n",
    "from typing import Dict, List"
   ]
  },
  {
   "cell_type": "code",
   "execution_count": 86,
   "metadata": {},
   "outputs": [
    {
     "data": {
      "application/vnd.microsoft.datawrangler.viewer.v0+json": {
       "columns": [
        {
         "name": "index",
         "rawType": "int64",
         "type": "integer"
        },
        {
         "name": "target",
         "rawType": "int64",
         "type": "integer"
        },
        {
         "name": "id",
         "rawType": "int64",
         "type": "integer"
        },
        {
         "name": "date",
         "rawType": "object",
         "type": "string"
        },
        {
         "name": "flag",
         "rawType": "object",
         "type": "string"
        },
        {
         "name": "user",
         "rawType": "object",
         "type": "string"
        },
        {
         "name": "text",
         "rawType": "object",
         "type": "string"
        }
       ],
       "conversionMethod": "pd.DataFrame",
       "ref": "c28823de-f9c9-46d1-b2c8-4d661ee6efa1",
       "rows": [
        [
         "0",
         "0",
         "1467810369",
         "Mon Apr 06 22:19:45 PDT 2009",
         "NO_QUERY",
         "_TheSpecialOne_",
         "@switchfoot http://twitpic.com/2y1zl - Awww, that's a bummer.  You shoulda got David Carr of Third Day to do it. ;D"
        ],
        [
         "1",
         "0",
         "1467810672",
         "Mon Apr 06 22:19:49 PDT 2009",
         "NO_QUERY",
         "scotthamilton",
         "is upset that he can't update his Facebook by texting it... and might cry as a result  School today also. Blah!"
        ],
        [
         "2",
         "0",
         "1467810917",
         "Mon Apr 06 22:19:53 PDT 2009",
         "NO_QUERY",
         "mattycus",
         "@Kenichan I dived many times for the ball. Managed to save 50%  The rest go out of bounds"
        ],
        [
         "3",
         "0",
         "1467811184",
         "Mon Apr 06 22:19:57 PDT 2009",
         "NO_QUERY",
         "ElleCTF",
         "my whole body feels itchy and like its on fire "
        ],
        [
         "4",
         "0",
         "1467811193",
         "Mon Apr 06 22:19:57 PDT 2009",
         "NO_QUERY",
         "Karoli",
         "@nationwideclass no, it's not behaving at all. i'm mad. why am i here? because I can't see you all over there. "
        ]
       ],
       "shape": {
        "columns": 6,
        "rows": 5
       }
      },
      "text/html": [
       "<div>\n",
       "<style scoped>\n",
       "    .dataframe tbody tr th:only-of-type {\n",
       "        vertical-align: middle;\n",
       "    }\n",
       "\n",
       "    .dataframe tbody tr th {\n",
       "        vertical-align: top;\n",
       "    }\n",
       "\n",
       "    .dataframe thead th {\n",
       "        text-align: right;\n",
       "    }\n",
       "</style>\n",
       "<table border=\"1\" class=\"dataframe\">\n",
       "  <thead>\n",
       "    <tr style=\"text-align: right;\">\n",
       "      <th></th>\n",
       "      <th>target</th>\n",
       "      <th>id</th>\n",
       "      <th>date</th>\n",
       "      <th>flag</th>\n",
       "      <th>user</th>\n",
       "      <th>text</th>\n",
       "    </tr>\n",
       "  </thead>\n",
       "  <tbody>\n",
       "    <tr>\n",
       "      <th>0</th>\n",
       "      <td>0</td>\n",
       "      <td>1467810369</td>\n",
       "      <td>Mon Apr 06 22:19:45 PDT 2009</td>\n",
       "      <td>NO_QUERY</td>\n",
       "      <td>_TheSpecialOne_</td>\n",
       "      <td>@switchfoot http://twitpic.com/2y1zl - Awww, t...</td>\n",
       "    </tr>\n",
       "    <tr>\n",
       "      <th>1</th>\n",
       "      <td>0</td>\n",
       "      <td>1467810672</td>\n",
       "      <td>Mon Apr 06 22:19:49 PDT 2009</td>\n",
       "      <td>NO_QUERY</td>\n",
       "      <td>scotthamilton</td>\n",
       "      <td>is upset that he can't update his Facebook by ...</td>\n",
       "    </tr>\n",
       "    <tr>\n",
       "      <th>2</th>\n",
       "      <td>0</td>\n",
       "      <td>1467810917</td>\n",
       "      <td>Mon Apr 06 22:19:53 PDT 2009</td>\n",
       "      <td>NO_QUERY</td>\n",
       "      <td>mattycus</td>\n",
       "      <td>@Kenichan I dived many times for the ball. Man...</td>\n",
       "    </tr>\n",
       "    <tr>\n",
       "      <th>3</th>\n",
       "      <td>0</td>\n",
       "      <td>1467811184</td>\n",
       "      <td>Mon Apr 06 22:19:57 PDT 2009</td>\n",
       "      <td>NO_QUERY</td>\n",
       "      <td>ElleCTF</td>\n",
       "      <td>my whole body feels itchy and like its on fire</td>\n",
       "    </tr>\n",
       "    <tr>\n",
       "      <th>4</th>\n",
       "      <td>0</td>\n",
       "      <td>1467811193</td>\n",
       "      <td>Mon Apr 06 22:19:57 PDT 2009</td>\n",
       "      <td>NO_QUERY</td>\n",
       "      <td>Karoli</td>\n",
       "      <td>@nationwideclass no, it's not behaving at all....</td>\n",
       "    </tr>\n",
       "  </tbody>\n",
       "</table>\n",
       "</div>"
      ],
      "text/plain": [
       "   target          id                          date      flag  \\\n",
       "0       0  1467810369  Mon Apr 06 22:19:45 PDT 2009  NO_QUERY   \n",
       "1       0  1467810672  Mon Apr 06 22:19:49 PDT 2009  NO_QUERY   \n",
       "2       0  1467810917  Mon Apr 06 22:19:53 PDT 2009  NO_QUERY   \n",
       "3       0  1467811184  Mon Apr 06 22:19:57 PDT 2009  NO_QUERY   \n",
       "4       0  1467811193  Mon Apr 06 22:19:57 PDT 2009  NO_QUERY   \n",
       "\n",
       "              user                                               text  \n",
       "0  _TheSpecialOne_  @switchfoot http://twitpic.com/2y1zl - Awww, t...  \n",
       "1    scotthamilton  is upset that he can't update his Facebook by ...  \n",
       "2         mattycus  @Kenichan I dived many times for the ball. Man...  \n",
       "3          ElleCTF    my whole body feels itchy and like its on fire   \n",
       "4           Karoli  @nationwideclass no, it's not behaving at all....  "
      ]
     },
     "execution_count": 86,
     "metadata": {},
     "output_type": "execute_result"
    }
   ],
   "source": [
    "# generated by GitHub Copilot with minor edits\n",
    "\n",
    "# Load & setup\n",
    "# runtime: 5s\n",
    "df = pd.read_csv('data.csv', encoding='latin-1', header=None)\n",
    "df.columns = ['target', 'id', 'date', 'flag', 'user', 'text']  # target: 0 = negative, 4 = positive\n",
    "df['target'] = df['target'].replace({4: 1})  # Replace 4s (positives) with 1s in the 'target' column\n",
    "df.head()"
   ]
  },
  {
   "cell_type": "code",
   "execution_count": 87,
   "metadata": {},
   "outputs": [
    {
     "name": "stdout",
     "output_type": "stream",
     "text": [
      "Total number of examples: 1600000\n"
     ]
    }
   ],
   "source": [
    "print(f\"Total number of examples: {df['target'].value_counts().sum()}\")"
   ]
  },
  {
   "cell_type": "code",
   "execution_count": 88,
   "metadata": {},
   "outputs": [],
   "source": [
    "# Helpful constants\n",
    "\n",
    "NUMBER_OF_TARGET_VALUES = 2\n",
    "TOTAL_NUMBER_OF_EXAMPLES = 16000000"
   ]
  },
  {
   "cell_type": "code",
   "execution_count": 89,
   "metadata": {},
   "outputs": [],
   "source": [
    "# Apply seaborn style to all matplotlib plots!\n",
    "sns.set_theme(style=\"whitegrid\", palette=\"pastel\")"
   ]
  },
  {
   "cell_type": "code",
   "execution_count": 90,
   "metadata": {},
   "outputs": [
    {
     "data": {
      "image/png": "[encoded data removed]",
      "text/plain": [
       "<Figure size 400x400 with 1 Axes>"
      ]
     },
     "metadata": {},
     "output_type": "display_data"
    }
   ],
   "source": [
    "# generated by GitHub Copilot with minor edits\n",
    "\n",
    "# Plot ratio of positive and negative tweets\n",
    "# runtime: 0s\n",
    "\n",
    "def func(pct, allvals):\n",
    "    absolute = int(np.round(pct / 100. * np.sum(allvals)))\n",
    "    return f\"{pct:.1f}%\\n({absolute:d})\"\n",
    "\n",
    "# Data for the pie chart\n",
    "data = df['target'].value_counts()\n",
    "\n",
    "# Create the pie chart\n",
    "plt.figure(figsize=(4, 4))\n",
    "plt.pie(\n",
    "    data, \n",
    "    labels=['Negative', 'Positive'],  # Adjust labels as needed\n",
    "    autopct=lambda pct: func(pct, data), \n",
    "    startangle=90\n",
    ")\n",
    "plt.title('Distribution of Positive and Negative Tweets')\n",
    "plt.show()"
   ]
  },
  {
   "cell_type": "markdown",
   "metadata": {},
   "source": [
    "## \"Unigram\" / Inidivdual Words"
   ]
  },
  {
   "cell_type": "code",
   "execution_count": null,
   "metadata": {},
   "outputs": [
    {
     "name": "stdout",
     "output_type": "stream",
     "text": [
      "Counting words...\n"
     ]
    }
   ],
   "source": [
    "# generated by GitHub Copilot with minor edits\n",
    "# runtime: 45s\n",
    "\n",
    "print(\"Counting words...\")\n",
    "word_counts: Dict[str, Dict[int, int]] = {}  # word -> target -> frequency\n",
    "\n",
    "for i, row in df.iterrows():\n",
    "    words: List[str] = list(set(row['text'].split()))\n",
    "    target: int = row['target']\n",
    "    for word in words:\n",
    "        if word in word_counts:\n",
    "            word_counts[word][target] += 1\n",
    "        else:\n",
    "            word_counts[word] = {0: 0, 1: 0}  # initialize\n",
    "            word_counts[word][target] = 1"
   ]
  },
  {
   "cell_type": "code",
   "execution_count": null,
   "metadata": {},
   "outputs": [
    {
     "data": {
      "application/vnd.microsoft.datawrangler.viewer.v0+json": {
       "columns": [
        {
         "name": "index",
         "rawType": "int64",
         "type": "integer"
        },
        {
         "name": "word",
         "rawType": "object",
         "type": "string"
        },
        {
         "name": "neg",
         "rawType": "int64",
         "type": "integer"
        },
        {
         "name": "pos",
         "rawType": "int64",
         "type": "integer"
        },
        {
         "name": "total",
         "rawType": "int64",
         "type": "integer"
        }
       ],
       "conversionMethod": "pd.DataFrame",
       "ref": "a207f516-1488-4cf7-85ab-4d07a2e42e9d",
       "rows": [
        [
         "0",
         "to",
         "243891",
         "205548",
         "449439"
        ],
        [
         "1",
         "the",
         "198554",
         "204706",
         "403260"
        ],
        [
         "2",
         "I",
         "225262",
         "157744",
         "383006"
        ],
        [
         "3",
         "a",
         "154666",
         "166868",
         "321534"
        ],
        [
         "4",
         "my",
         "148772",
         "103172",
         "251944"
        ]
       ],
       "shape": {
        "columns": 4,
        "rows": 5
       }
      },
      "text/html": [
       "<div>\n",
       "<style scoped>\n",
       "    .dataframe tbody tr th:only-of-type {\n",
       "        vertical-align: middle;\n",
       "    }\n",
       "\n",
       "    .dataframe tbody tr th {\n",
       "        vertical-align: top;\n",
       "    }\n",
       "\n",
       "    .dataframe thead th {\n",
       "        text-align: right;\n",
       "    }\n",
       "</style>\n",
       "<table border=\"1\" class=\"dataframe\">\n",
       "  <thead>\n",
       "    <tr style=\"text-align: right;\">\n",
       "      <th></th>\n",
       "      <th>word</th>\n",
       "      <th>neg</th>\n",
       "      <th>pos</th>\n",
       "      <th>total</th>\n",
       "    </tr>\n",
       "  </thead>\n",
       "  <tbody>\n",
       "    <tr>\n",
       "      <th>0</th>\n",
       "      <td>to</td>\n",
       "      <td>243891</td>\n",
       "      <td>205548</td>\n",
       "      <td>449439</td>\n",
       "    </tr>\n",
       "    <tr>\n",
       "      <th>1</th>\n",
       "      <td>the</td>\n",
       "      <td>198554</td>\n",
       "      <td>204706</td>\n",
       "      <td>403260</td>\n",
       "    </tr>\n",
       "    <tr>\n",
       "      <th>2</th>\n",
       "      <td>I</td>\n",
       "      <td>225262</td>\n",
       "      <td>157744</td>\n",
       "      <td>383006</td>\n",
       "    </tr>\n",
       "    <tr>\n",
       "      <th>3</th>\n",
       "      <td>a</td>\n",
       "      <td>154666</td>\n",
       "      <td>166868</td>\n",
       "      <td>321534</td>\n",
       "    </tr>\n",
       "    <tr>\n",
       "      <th>4</th>\n",
       "      <td>my</td>\n",
       "      <td>148772</td>\n",
       "      <td>103172</td>\n",
       "      <td>251944</td>\n",
       "    </tr>\n",
       "  </tbody>\n",
       "</table>\n",
       "</div>"
      ],
      "text/plain": [
       "  word     neg     pos   total\n",
       "0   to  243891  205548  449439\n",
       "1  the  198554  204706  403260\n",
       "2    I  225262  157744  383006\n",
       "3    a  154666  166868  321534\n",
       "4   my  148772  103172  251944"
      ]
     },
     "execution_count": 59,
     "metadata": {},
     "output_type": "execute_result"
    }
   ],
   "source": [
    "# generated by GitHub Copilot with minor edits\n",
    "# runtime: 15s\n",
    "\n",
    "word_counts_df = pd.DataFrame(word_counts).T.reset_index()\n",
    "word_counts_df.columns = ['word', 'neg', 'pos']\n",
    "# pos: number of positive examples which contains the word\n",
    "word_counts_df['total'] = word_counts_df['neg'] + word_counts_df['pos']\n",
    "word_counts_df = word_counts_df.sort_values(by='total', ascending=False)\n",
    "\n",
    "word_counts_df.head()"
   ]
  },
  {
   "cell_type": "code",
   "execution_count": null,
   "metadata": {},
   "outputs": [
    {
     "data": {
      "image/png": "[encoded data removed]",
      "text/plain": [
       "<Figure size 500x300 with 1 Axes>"
      ]
     },
     "metadata": {},
     "output_type": "display_data"
    }
   ],
   "source": [
    "# generated by GitHub Copilot with minor edits\n",
    "\n",
    "# Plot the distribution of the words\n",
    "plt.figure(figsize=(5, 3))\n",
    "plt.hist(word_counts_df['total'], bins=100)\n",
    "plt.title('Distribution of Word Counts')\n",
    "plt.xlabel('Word Count')\n",
    "plt.ylabel('Number of words with the same count')\n",
    "plt.grid(axis='y', linestyle='--', alpha=0.7)\n",
    "plt.show()"
   ]
  },
  {
   "cell_type": "markdown",
   "metadata": {},
   "source": [
    "Since most words appears only a few times in the entire dataset, the plot is strongly right-skewed. We can verify that the plot is not just one bar but is in fact right-skewed with the following operation: "
   ]
  },
  {
   "cell_type": "code",
   "execution_count": null,
   "metadata": {},
   "outputs": [
    {
     "data": {
      "image/png": "[encoded data removed]",
      "text/plain": [
       "<Figure size 500x300 with 1 Axes>"
      ]
     },
     "metadata": {},
     "output_type": "display_data"
    }
   ],
   "source": [
    "# remove words that appear only a certain number of times in the dataset to visualize the distribution better\n",
    "word_counts_trimmed_df = word_counts_df[word_counts_df['total'] > 5000]\n",
    "\n",
    "# plot the distribution of the words again\n",
    "plt.figure(figsize=(5, 3))\n",
    "plt.hist(word_counts_trimmed_df['total'], bins=100)\n",
    "plt.title('Distribution of Word Counts')\n",
    "plt.xlabel('Word Count')\n",
    "plt.ylabel('Number of words with the same count')\n",
    "plt.grid(axis='y', linestyle='--', alpha=0.7)\n",
    "plt.show()"
   ]
  },
  {
   "cell_type": "markdown",
   "metadata": {},
   "source": [
    "### Filtered / Remove neutral words\n",
    "\n",
    "We can remove article adjectives, conjunctions, prepositions, etc. to see better if there are particular words that or collections of words are correlated to positive or negative emotion. "
   ]
  },
  {
   "cell_type": "code",
   "execution_count": null,
   "metadata": {},
   "outputs": [
    {
     "data": {
      "application/vnd.microsoft.datawrangler.viewer.v0+json": {
       "columns": [
        {
         "name": "index",
         "rawType": "int64",
         "type": "integer"
        },
        {
         "name": "word",
         "rawType": "object",
         "type": "string"
        },
        {
         "name": "neg",
         "rawType": "int64",
         "type": "integer"
        },
        {
         "name": "pos",
         "rawType": "int64",
         "type": "integer"
        },
        {
         "name": "total",
         "rawType": "int64",
         "type": "integer"
        }
       ],
       "conversionMethod": "pd.DataFrame",
       "ref": "b80d278e-c68e-46b2-bd8d-e75c0e09ea70",
       "rows": [
        [
         "22",
         "just",
         "48767",
         "45315",
         "94082"
        ],
        [
         "23",
         "I'm",
         "52391",
         "40770",
         "93161"
        ],
        [
         "25",
         "not",
         "59359",
         "25921",
         "85280"
        ],
        [
         "27",
         "get",
         "42487",
         "31566",
         "74053"
        ],
        [
         "31",
         "all",
         "33968",
         "31831",
         "65799"
        ]
       ],
       "shape": {
        "columns": 4,
        "rows": 5
       }
      },
      "text/html": [
       "<div>\n",
       "<style scoped>\n",
       "    .dataframe tbody tr th:only-of-type {\n",
       "        vertical-align: middle;\n",
       "    }\n",
       "\n",
       "    .dataframe tbody tr th {\n",
       "        vertical-align: top;\n",
       "    }\n",
       "\n",
       "    .dataframe thead th {\n",
       "        text-align: right;\n",
       "    }\n",
       "</style>\n",
       "<table border=\"1\" class=\"dataframe\">\n",
       "  <thead>\n",
       "    <tr style=\"text-align: right;\">\n",
       "      <th></th>\n",
       "      <th>word</th>\n",
       "      <th>neg</th>\n",
       "      <th>pos</th>\n",
       "      <th>total</th>\n",
       "    </tr>\n",
       "  </thead>\n",
       "  <tbody>\n",
       "    <tr>\n",
       "      <th>22</th>\n",
       "      <td>just</td>\n",
       "      <td>48767</td>\n",
       "      <td>45315</td>\n",
       "      <td>94082</td>\n",
       "    </tr>\n",
       "    <tr>\n",
       "      <th>23</th>\n",
       "      <td>I'm</td>\n",
       "      <td>52391</td>\n",
       "      <td>40770</td>\n",
       "      <td>93161</td>\n",
       "    </tr>\n",
       "    <tr>\n",
       "      <th>25</th>\n",
       "      <td>not</td>\n",
       "      <td>59359</td>\n",
       "      <td>25921</td>\n",
       "      <td>85280</td>\n",
       "    </tr>\n",
       "    <tr>\n",
       "      <th>27</th>\n",
       "      <td>get</td>\n",
       "      <td>42487</td>\n",
       "      <td>31566</td>\n",
       "      <td>74053</td>\n",
       "    </tr>\n",
       "    <tr>\n",
       "      <th>31</th>\n",
       "      <td>all</td>\n",
       "      <td>33968</td>\n",
       "      <td>31831</td>\n",
       "      <td>65799</td>\n",
       "    </tr>\n",
       "  </tbody>\n",
       "</table>\n",
       "</div>"
      ],
      "text/plain": [
       "    word    neg    pos  total\n",
       "22  just  48767  45315  94082\n",
       "23   I'm  52391  40770  93161\n",
       "25   not  59359  25921  85280\n",
       "27   get  42487  31566  74053\n",
       "31   all  33968  31831  65799"
      ]
     },
     "execution_count": 62,
     "metadata": {},
     "output_type": "execute_result"
    }
   ],
   "source": [
    "# generated by GitHub Copilot with minor edits\n",
    "\n",
    "pronouns: List[str] = ['i', 'me', 'my', 'mine', 'myself', 'we', 'us', 'our', 'ours', 'ourselves', 'you', 'your', 'yours', 'yourself', 'yourselves', 'he', 'him', 'his', 'himself', 'she', 'her', 'hers', 'herself', 'it', 'its', 'itself', 'they', 'them', 'their', 'theirs', 'themselves', 'what', 'which', 'who', 'whom', 'whose', 'this', 'that', 'these', 'those']  \n",
    "helping_verbs: List[str] = ['am', 'is', 'are', 'was', 'were', 'be', 'been', 'being', 'have', 'has', 'had', 'do', 'does', 'did', 'shall', 'will', 'should', 'would', 'may', 'might', 'must', 'can', 'could']\n",
    "article_adj: List[str] = ['a', 'an', 'the']\n",
    "conjunctions: List[str] = ['and', 'but', 'or', 'nor', 'for', 'yet', 'so']\n",
    "prepositions: List[str] = ['aboard', 'about', 'above', 'across', 'after', 'against', 'along', 'among', 'around', 'at', 'before', 'behind', 'below', 'beneath', 'beside', 'between', 'beyond', 'by', 'down', 'during', 'except', 'for', 'from', 'in', 'inside', 'into', 'like', 'near', 'of', 'off', 'on', 'onto', 'out', 'outside', 'over', 'past', 'since', 'through', 'throughout', 'to', 'toward', 'under', 'underneath', 'until', 'up', 'upon', 'with', 'within', 'without']\n",
    "neutral_words: List[str] = pronouns + helping_verbs + article_adj + conjunctions + prepositions\n",
    "\n",
    "word_counts_filtered_df = word_counts_df[~word_counts_df['word'].str.lower().isin(neutral_words)]\n",
    "word_counts_filtered_df.head()"
   ]
  },
  {
   "cell_type": "code",
   "execution_count": null,
   "metadata": {},
   "outputs": [
    {
     "data": {
      "image/png": "[encoded data removed]",
      "text/plain": [
       "<Figure size 500x300 with 1 Axes>"
      ]
     },
     "metadata": {},
     "output_type": "display_data"
    }
   ],
   "source": [
    "# Plot again\n",
    "plt.figure(figsize=(5, 3))\n",
    "plt.hist(word_counts_filtered_df['total'], bins=100)\n",
    "plt.title('Distribution of Word Counts')\n",
    "plt.xlabel('Word Count')\n",
    "plt.ylabel('Frequency of Count')\n",
    "plt.grid(axis='y', linestyle='--', alpha=0.7)\n",
    "plt.show()"
   ]
  },
  {
   "cell_type": "markdown",
   "metadata": {},
   "source": [
    "Now we can actually see somethings from the data...We can create a another column representing the relative frequency of positive tweets associated with the word. "
   ]
  },
  {
   "cell_type": "code",
   "execution_count": null,
   "metadata": {},
   "outputs": [
    {
     "name": "stderr",
     "output_type": "stream",
     "text": [
      "/var/folders/jf/9yw5p_gd5fn_t20w9pgwzdv80000gn/T/ipykernel_20438/54581162.py:3: SettingWithCopyWarning: \n",
      "A value is trying to be set on a copy of a slice from a DataFrame.\n",
      "Try using .loc[row_indexer,col_indexer] = value instead\n",
      "\n",
      "See the caveats in the documentation: https://pandas.pydata.org/pandas-docs/stable/user_guide/indexing.html#returning-a-view-versus-a-copy\n",
      "  word_counts_filtered_df['pos_ratio'] = word_counts_filtered_df['pos'] / word_counts_filtered_df['total']\n",
      "/var/folders/jf/9yw5p_gd5fn_t20w9pgwzdv80000gn/T/ipykernel_20438/54581162.py:4: SettingWithCopyWarning: \n",
      "A value is trying to be set on a copy of a slice from a DataFrame.\n",
      "Try using .loc[row_indexer,col_indexer] = value instead\n",
      "\n",
      "See the caveats in the documentation: https://pandas.pydata.org/pandas-docs/stable/user_guide/indexing.html#returning-a-view-versus-a-copy\n",
      "  word_counts_filtered_df['intensity'] = abs(word_counts_filtered_df['pos_ratio'] - 0.5) / 0.5  # [0, 1], how strongly the word is correlated with either positive or negative\n"
     ]
    },
    {
     "data": {
      "application/vnd.microsoft.datawrangler.viewer.v0+json": {
       "columns": [
        {
         "name": "index",
         "rawType": "int64",
         "type": "integer"
        },
        {
         "name": "word",
         "rawType": "object",
         "type": "string"
        },
        {
         "name": "neg",
         "rawType": "int64",
         "type": "integer"
        },
        {
         "name": "pos",
         "rawType": "int64",
         "type": "integer"
        },
        {
         "name": "total",
         "rawType": "int64",
         "type": "integer"
        },
        {
         "name": "pos_ratio",
         "rawType": "float64",
         "type": "float"
        },
        {
         "name": "intensity",
         "rawType": "float64",
         "type": "float"
        }
       ],
       "conversionMethod": "pd.DataFrame",
       "ref": "a2276bcd-8be0-4cbb-ba57-1c2028f82530",
       "rows": [
        [
         "675485",
         "#theregister",
         "1",
         "0",
         "1",
         "0.0",
         "1.0"
        ],
        [
         "900514",
         "notables",
         "0",
         "1",
         "1",
         "1.0",
         "1.0"
        ],
        [
         "900512",
         "@mukund,",
         "0",
         "1",
         "1",
         "1.0",
         "1.0"
        ],
        [
         "900511",
         "stellie!",
         "0",
         "1",
         "1",
         "1.0",
         "1.0"
        ],
        [
         "900510",
         "http://tinyurl.com/o7r24x",
         "0",
         "1",
         "1",
         "1.0",
         "1.0"
        ]
       ],
       "shape": {
        "columns": 6,
        "rows": 5
       }
      },
      "text/html": [
       "<div>\n",
       "<style scoped>\n",
       "    .dataframe tbody tr th:only-of-type {\n",
       "        vertical-align: middle;\n",
       "    }\n",
       "\n",
       "    .dataframe tbody tr th {\n",
       "        vertical-align: top;\n",
       "    }\n",
       "\n",
       "    .dataframe thead th {\n",
       "        text-align: right;\n",
       "    }\n",
       "</style>\n",
       "<table border=\"1\" class=\"dataframe\">\n",
       "  <thead>\n",
       "    <tr style=\"text-align: right;\">\n",
       "      <th></th>\n",
       "      <th>word</th>\n",
       "      <th>neg</th>\n",
       "      <th>pos</th>\n",
       "      <th>total</th>\n",
       "      <th>pos_ratio</th>\n",
       "      <th>intensity</th>\n",
       "    </tr>\n",
       "  </thead>\n",
       "  <tbody>\n",
       "    <tr>\n",
       "      <th>675485</th>\n",
       "      <td>#theregister</td>\n",
       "      <td>1</td>\n",
       "      <td>0</td>\n",
       "      <td>1</td>\n",
       "      <td>0.0</td>\n",
       "      <td>1.0</td>\n",
       "    </tr>\n",
       "    <tr>\n",
       "      <th>900514</th>\n",
       "      <td>notables</td>\n",
       "      <td>0</td>\n",
       "      <td>1</td>\n",
       "      <td>1</td>\n",
       "      <td>1.0</td>\n",
       "      <td>1.0</td>\n",
       "    </tr>\n",
       "    <tr>\n",
       "      <th>900512</th>\n",
       "      <td>@mukund,</td>\n",
       "      <td>0</td>\n",
       "      <td>1</td>\n",
       "      <td>1</td>\n",
       "      <td>1.0</td>\n",
       "      <td>1.0</td>\n",
       "    </tr>\n",
       "    <tr>\n",
       "      <th>900511</th>\n",
       "      <td>stellie!</td>\n",
       "      <td>0</td>\n",
       "      <td>1</td>\n",
       "      <td>1</td>\n",
       "      <td>1.0</td>\n",
       "      <td>1.0</td>\n",
       "    </tr>\n",
       "    <tr>\n",
       "      <th>900510</th>\n",
       "      <td>http://tinyurl.com/o7r24x</td>\n",
       "      <td>0</td>\n",
       "      <td>1</td>\n",
       "      <td>1</td>\n",
       "      <td>1.0</td>\n",
       "      <td>1.0</td>\n",
       "    </tr>\n",
       "  </tbody>\n",
       "</table>\n",
       "</div>"
      ],
      "text/plain": [
       "                             word  neg  pos  total  pos_ratio  intensity\n",
       "675485               #theregister    1    0      1        0.0        1.0\n",
       "900514                   notables    0    1      1        1.0        1.0\n",
       "900512                   @mukund,    0    1      1        1.0        1.0\n",
       "900511                   stellie!    0    1      1        1.0        1.0\n",
       "900510  http://tinyurl.com/o7r24x    0    1      1        1.0        1.0"
      ]
     },
     "execution_count": 64,
     "metadata": {},
     "output_type": "execute_result"
    }
   ],
   "source": [
    "# generated by GitHub Copilot with minor edits\n",
    "\n",
    "word_counts_filtered_df['pos_ratio'] = word_counts_filtered_df['pos'] / word_counts_filtered_df['total']\n",
    "word_counts_filtered_df['intensity'] = abs(word_counts_filtered_df['pos_ratio'] - 0.5) / 0.5  # [0, 1], how strongly the word is correlated with either positive or negative\n",
    "word_counts_filtered_df = word_counts_filtered_df.sort_values(by='intensity', ascending=False)\n",
    "\n",
    "word_counts_filtered_df.head()"
   ]
  },
  {
   "cell_type": "markdown",
   "metadata": {},
   "source": [
    "- `pos_ratio` is the proportion of positive examples wrt all examples\n",
    "- `intensity` is a measurement of strength of the word's correlation with either a positive or negative emotion, i.e., the distance between `pos_ratio` and `0.5`. \n",
    "    - 0.5 means the word occurs equally frequently in positive and negative tweets\n",
    "    - i.e, the word is not directly correlated with either emotion\n",
    "\n",
    "Notice the examples that might cause overfitting :) While some words are very strongly correlated with emotions (i.e., they only appear in positive/negative tweets), their relative frequency in the dataset is negligible. We might as well remove words with negligible frequency..."
   ]
  },
  {
   "cell_type": "code",
   "execution_count": null,
   "metadata": {},
   "outputs": [
    {
     "data": {
      "application/vnd.microsoft.datawrangler.viewer.v0+json": {
       "columns": [
        {
         "name": "index",
         "rawType": "int64",
         "type": "integer"
        },
        {
         "name": "word",
         "rawType": "object",
         "type": "string"
        },
        {
         "name": "neg",
         "rawType": "int64",
         "type": "integer"
        },
        {
         "name": "pos",
         "rawType": "int64",
         "type": "integer"
        },
        {
         "name": "total",
         "rawType": "int64",
         "type": "integer"
        },
        {
         "name": "pos_ratio",
         "rawType": "float64",
         "type": "float"
        },
        {
         "name": "intensity",
         "rawType": "float64",
         "type": "float"
        }
       ],
       "conversionMethod": "pd.DataFrame",
       "ref": "e951bd9a-6a5c-4b4a-9bf4-baa0db3bd749",
       "rows": [
        [
         "961",
         "Sad",
         "1937",
         "80",
         "2017",
         "0.03966286564204264",
         "0.9206742687159147"
        ],
        [
         "675",
         "sad.",
         "2946",
         "138",
         "3084",
         "0.04474708171206226",
         "0.9105058365758755"
        ],
        [
         "1064",
         "#followfriday",
         "86",
         "1733",
         "1819",
         "0.9527212754260582",
         "0.9054425508521164"
        ],
        [
         "121",
         "sad",
         "18033",
         "936",
         "18969",
         "0.04934366598133797",
         "0.901312668037324"
        ],
        [
         "428",
         "hurts",
         "5168",
         "278",
         "5446",
         "0.05104663973558575",
         "0.8979067205288285"
        ]
       ],
       "shape": {
        "columns": 6,
        "rows": 5
       }
      },
      "text/html": [
       "<div>\n",
       "<style scoped>\n",
       "    .dataframe tbody tr th:only-of-type {\n",
       "        vertical-align: middle;\n",
       "    }\n",
       "\n",
       "    .dataframe tbody tr th {\n",
       "        vertical-align: top;\n",
       "    }\n",
       "\n",
       "    .dataframe thead th {\n",
       "        text-align: right;\n",
       "    }\n",
       "</style>\n",
       "<table border=\"1\" class=\"dataframe\">\n",
       "  <thead>\n",
       "    <tr style=\"text-align: right;\">\n",
       "      <th></th>\n",
       "      <th>word</th>\n",
       "      <th>neg</th>\n",
       "      <th>pos</th>\n",
       "      <th>total</th>\n",
       "      <th>pos_ratio</th>\n",
       "      <th>intensity</th>\n",
       "    </tr>\n",
       "  </thead>\n",
       "  <tbody>\n",
       "    <tr>\n",
       "      <th>961</th>\n",
       "      <td>Sad</td>\n",
       "      <td>1937</td>\n",
       "      <td>80</td>\n",
       "      <td>2017</td>\n",
       "      <td>0.039663</td>\n",
       "      <td>0.920674</td>\n",
       "    </tr>\n",
       "    <tr>\n",
       "      <th>675</th>\n",
       "      <td>sad.</td>\n",
       "      <td>2946</td>\n",
       "      <td>138</td>\n",
       "      <td>3084</td>\n",
       "      <td>0.044747</td>\n",
       "      <td>0.910506</td>\n",
       "    </tr>\n",
       "    <tr>\n",
       "      <th>1064</th>\n",
       "      <td>#followfriday</td>\n",
       "      <td>86</td>\n",
       "      <td>1733</td>\n",
       "      <td>1819</td>\n",
       "      <td>0.952721</td>\n",
       "      <td>0.905443</td>\n",
       "    </tr>\n",
       "    <tr>\n",
       "      <th>121</th>\n",
       "      <td>sad</td>\n",
       "      <td>18033</td>\n",
       "      <td>936</td>\n",
       "      <td>18969</td>\n",
       "      <td>0.049344</td>\n",
       "      <td>0.901313</td>\n",
       "    </tr>\n",
       "    <tr>\n",
       "      <th>428</th>\n",
       "      <td>hurts</td>\n",
       "      <td>5168</td>\n",
       "      <td>278</td>\n",
       "      <td>5446</td>\n",
       "      <td>0.051047</td>\n",
       "      <td>0.897907</td>\n",
       "    </tr>\n",
       "  </tbody>\n",
       "</table>\n",
       "</div>"
      ],
      "text/plain": [
       "               word    neg   pos  total  pos_ratio  intensity\n",
       "961             Sad   1937    80   2017   0.039663   0.920674\n",
       "675            sad.   2946   138   3084   0.044747   0.910506\n",
       "1064  #followfriday     86  1733   1819   0.952721   0.905443\n",
       "121             sad  18033   936  18969   0.049344   0.901313\n",
       "428           hurts   5168   278   5446   0.051047   0.897907"
      ]
     },
     "execution_count": 65,
     "metadata": {},
     "output_type": "execute_result"
    }
   ],
   "source": [
    "threshhold: float = 0.0001  # minimum relative frequency; play with this\n",
    "\n",
    "word_counts_filtered_df = word_counts_filtered_df[word_counts_filtered_df['total'] > threshhold * TOTAL_NUMBER_OF_EXAMPLES]\n",
    "word_counts_filtered_df.head()"
   ]
  },
  {
   "cell_type": "code",
   "execution_count": null,
   "metadata": {},
   "outputs": [
    {
     "name": "stdout",
     "output_type": "stream",
     "text": [
      "Top 20 positive words (filtered): ['#followfriday' 'welcome' 'Welcome' 'Once' 'Thanks!' 'Thank' 'Thanks'\n",
      " 'smile' 'proud' 'thanks!' 'thank' 'thanks' 'Happy' 'Nice' 'wonderful'\n",
      " 'Goodnight' 'Get' 'Hi' 'Hello' 'Glad']\n",
      "Top 20 negative words (filtered): ['Sad' 'sad.' 'sad' 'hurts' 'throat' 'headache' 'Poor' 'upset' 'sucks'\n",
      " 'died' 'sick.' 'sick' 'tummy' 'ugh' 'stomach' 'poor' 'horrible' 'broken'\n",
      " 'sucks.' 'worst']\n"
     ]
    }
   ],
   "source": [
    "word_pos_filtered_df = word_counts_filtered_df[word_counts_filtered_df['pos_ratio'] > 0.5].sort_values(by='intensity', ascending=False)\n",
    "word_neg_filtered_df = word_counts_filtered_df[word_counts_filtered_df['pos_ratio'] < 0.5].sort_values(by='intensity', ascending=False)\n",
    "\n",
    "NUMBER_OF_WORDS: int = 20\n",
    "print(f\"Top {NUMBER_OF_WORDS} positive words (filtered): {word_pos_filtered_df['word'].iloc[:NUMBER_OF_WORDS].values}\")\n",
    "print(f\"Top {NUMBER_OF_WORDS} negative words (filtered): {word_neg_filtered_df['word'].iloc[:NUMBER_OF_WORDS].values}\")"
   ]
  },
  {
   "cell_type": "markdown",
   "metadata": {},
   "source": [
    "##### Positive\n",
    "\n",
    "Funny how '#followfriday' is the word (more precisely, hashtag) most associated with positive emotion. This might be because the data is tweets, i.e., if our data were day-to-day conversations, '#followfriday' might not be such an intense word. \n",
    "\n",
    "'welcome' being the second most positive word underscores the importance of hospitality. \n",
    "\n",
    "Personally I don't understand why 'Get' is a very positive word. This might be because the dataset do not label tweets as neutral, even though some certainly are. \n",
    "\n",
    "Fun how 'Hi' and 'Hello' are associated with positive tweets. I suppose sad/stressed/angry people usually won't care to greet people. \n",
    "\n",
    "No idea why 'Once' would be a very positive word. Maybe when sharing (past) stories people tend to share more about funny/encouraging ones on Twitter than sad, depressing ones. \n",
    "\n",
    "'Goodnight' is so sweet. \n",
    "\n",
    "##### Negative\n",
    "\n",
    "\n",
    "'Sad' must be a very negative word...\n",
    "\n",
    "These words all make sense. It's interesting how some of the negative words are about physical (pain, I'd assume): 'throat', 'headache', 'sick', tummy' and 'stomach'...('hurts' and 'upset' could be physical too) Considering the fact that the abdomen made it on the list twice, stomach pain could potentially be one of the main causes of negative emotion?\n",
    "\n",
    "##### Capitalization, punctuation, abbreviation\n",
    "Notice the effects that capitalization, punctuation, and abbreviations might have: (more intense > less intense)\n",
    "\n",
    "- Positives\n",
    "    - welcome > Welcome\n",
    "    - Thanks! > Thank > Thanks > thanks! > thank > thanks\n",
    "    - Hi > Hello\n",
    "- Negatives\n",
    "    - Sad > sad. > sad\n",
    "    - Poor > poor\n",
    "    - sucks > sucks.\n",
    "    - sick. > sick\n",
    "\n",
    "It seems like more often than not capitalization, '!', and '.' is associated with stronger emotion, except with 'welcome' and 'sucks'. This makes sense since the emotion is heavily dependent on the context. When a person say something sucks, if he/she probably would not use just one period for emphasis, but \"I'm sad.\" does feel more sad than \"I'm sad\". I cannot make sense of 'welcome' over 'Welcome', but 'welcome' could be part of \"You're welcome\" whereas \"Welcome\" tends to stand by itself meaningwise. "
   ]
  },
  {
   "cell_type": "code",
   "execution_count": null,
   "metadata": {},
   "outputs": [
    {
     "data": {
      "image/png": "[encoded data removed]",
      "text/plain": [
       "<Figure size 500x300 with 1 Axes>"
      ]
     },
     "metadata": {},
     "output_type": "display_data"
    },
    {
     "data": {
      "image/png": "[encoded data removed]",
      "text/plain": [
       "<Figure size 500x300 with 1 Axes>"
      ]
     },
     "metadata": {},
     "output_type": "display_data"
    }
   ],
   "source": [
    "# Plot the distribution of intensity\n",
    "\n",
    "# bin = 100\n",
    "plt.figure(figsize=(5, 3))\n",
    "plt.hist(word_counts_filtered_df['intensity'], bins=100)\n",
    "plt.title('Distribution of Emotional Intensity of Words')\n",
    "plt.xlabel('Emotional Intensity of Word')\n",
    "plt.ylabel('Frequency')\n",
    "plt.grid(axis='y', linestyle='--', alpha=0.7)\n",
    "plt.show()\n",
    "\n",
    "# bin = 10\n",
    "plt.figure(figsize=(5, 3))\n",
    "plt.hist(word_counts_filtered_df['intensity'], bins=10)\n",
    "plt.title('Distribution of Emotional Intensity of Words')\n",
    "plt.xlabel('Emotional Intensity of Word')\n",
    "plt.ylabel('Frequency')\n",
    "plt.grid(axis='y', linestyle='--', alpha=0.7)\n",
    "plt.show()"
   ]
  },
  {
   "cell_type": "markdown",
   "metadata": {},
   "source": [
    "A quintessential right-skewed distribution! i.e., most words are not emotionally intense. "
   ]
  },
  {
   "cell_type": "markdown",
   "metadata": {},
   "source": [
    "A synthetic feature multiplying total and intensity would reveal the most common words with considerable emotional intensity. "
   ]
  },
  {
   "cell_type": "code",
   "execution_count": null,
   "metadata": {},
   "outputs": [
    {
     "data": {
      "application/vnd.microsoft.datawrangler.viewer.v0+json": {
       "columns": [
        {
         "name": "index",
         "rawType": "int64",
         "type": "integer"
        },
        {
         "name": "word",
         "rawType": "object",
         "type": "string"
        },
        {
         "name": "neg",
         "rawType": "int64",
         "type": "integer"
        },
        {
         "name": "pos",
         "rawType": "int64",
         "type": "integer"
        },
        {
         "name": "total",
         "rawType": "int64",
         "type": "integer"
        },
        {
         "name": "pos_ratio",
         "rawType": "float64",
         "type": "float"
        },
        {
         "name": "intensity",
         "rawType": "float64",
         "type": "float"
        },
        {
         "name": "total x intensity",
         "rawType": "float64",
         "type": "float"
        }
       ],
       "conversionMethod": "pd.DataFrame",
       "ref": "259dc620-f6e5-41f9-9059-c062ef4057be",
       "rows": [
        [
         "25",
         "not",
         "59359",
         "25921",
         "85280",
         "0.3039516885553471",
         "0.3920966228893058",
         "33438.0"
        ],
        [
         "76",
         "miss",
         "27753",
         "4658",
         "32411",
         "0.14371663941254512",
         "0.7125667211749098",
         "23095.000000000004"
        ],
        [
         "43",
         "love",
         "12800",
         "35220",
         "48020",
         "0.7334443981674302",
         "0.46688879633486047",
         "22420.0"
        ],
        [
         "44",
         "no",
         "34460",
         "13148",
         "47608",
         "0.2761720719206856",
         "0.4476558561586288",
         "21312.0"
        ],
        [
         "46",
         "work",
         "32027",
         "12681",
         "44708",
         "0.2836405117652322",
         "0.4327189764695356",
         "19345.999999999996"
        ],
        [
         "35",
         "good",
         "19707",
         "38362",
         "58069",
         "0.6606278737364171",
         "0.32125574747283414",
         "18655.000000000007"
        ],
        [
         "121",
         "sad",
         "18033",
         "936",
         "18969",
         "0.04934366598133797",
         "0.901312668037324",
         "17097.0"
        ],
        [
         "33",
         "go",
         "38843",
         "22031",
         "60874",
         "0.36191148930577915",
         "0.2761770213884417",
         "16812.0"
        ],
        [
         "61",
         "want",
         "27179",
         "10919",
         "38098",
         "0.28660297128458184",
         "0.4267940574308363",
         "16260.000000000002"
        ],
        [
         "67",
         "can't",
         "25813",
         "9951",
         "35764",
         "0.2782406889609663",
         "0.44351862207806736",
         "15862.000000000002"
        ]
       ],
       "shape": {
        "columns": 7,
        "rows": 10
       }
      },
      "text/html": [
       "<div>\n",
       "<style scoped>\n",
       "    .dataframe tbody tr th:only-of-type {\n",
       "        vertical-align: middle;\n",
       "    }\n",
       "\n",
       "    .dataframe tbody tr th {\n",
       "        vertical-align: top;\n",
       "    }\n",
       "\n",
       "    .dataframe thead th {\n",
       "        text-align: right;\n",
       "    }\n",
       "</style>\n",
       "<table border=\"1\" class=\"dataframe\">\n",
       "  <thead>\n",
       "    <tr style=\"text-align: right;\">\n",
       "      <th></th>\n",
       "      <th>word</th>\n",
       "      <th>neg</th>\n",
       "      <th>pos</th>\n",
       "      <th>total</th>\n",
       "      <th>pos_ratio</th>\n",
       "      <th>intensity</th>\n",
       "      <th>total x intensity</th>\n",
       "    </tr>\n",
       "  </thead>\n",
       "  <tbody>\n",
       "    <tr>\n",
       "      <th>25</th>\n",
       "      <td>not</td>\n",
       "      <td>59359</td>\n",
       "      <td>25921</td>\n",
       "      <td>85280</td>\n",
       "      <td>0.303952</td>\n",
       "      <td>0.392097</td>\n",
       "      <td>33438.0</td>\n",
       "    </tr>\n",
       "    <tr>\n",
       "      <th>76</th>\n",
       "      <td>miss</td>\n",
       "      <td>27753</td>\n",
       "      <td>4658</td>\n",
       "      <td>32411</td>\n",
       "      <td>0.143717</td>\n",
       "      <td>0.712567</td>\n",
       "      <td>23095.0</td>\n",
       "    </tr>\n",
       "    <tr>\n",
       "      <th>43</th>\n",
       "      <td>love</td>\n",
       "      <td>12800</td>\n",
       "      <td>35220</td>\n",
       "      <td>48020</td>\n",
       "      <td>0.733444</td>\n",
       "      <td>0.466889</td>\n",
       "      <td>22420.0</td>\n",
       "    </tr>\n",
       "    <tr>\n",
       "      <th>44</th>\n",
       "      <td>no</td>\n",
       "      <td>34460</td>\n",
       "      <td>13148</td>\n",
       "      <td>47608</td>\n",
       "      <td>0.276172</td>\n",
       "      <td>0.447656</td>\n",
       "      <td>21312.0</td>\n",
       "    </tr>\n",
       "    <tr>\n",
       "      <th>46</th>\n",
       "      <td>work</td>\n",
       "      <td>32027</td>\n",
       "      <td>12681</td>\n",
       "      <td>44708</td>\n",
       "      <td>0.283641</td>\n",
       "      <td>0.432719</td>\n",
       "      <td>19346.0</td>\n",
       "    </tr>\n",
       "    <tr>\n",
       "      <th>35</th>\n",
       "      <td>good</td>\n",
       "      <td>19707</td>\n",
       "      <td>38362</td>\n",
       "      <td>58069</td>\n",
       "      <td>0.660628</td>\n",
       "      <td>0.321256</td>\n",
       "      <td>18655.0</td>\n",
       "    </tr>\n",
       "    <tr>\n",
       "      <th>121</th>\n",
       "      <td>sad</td>\n",
       "      <td>18033</td>\n",
       "      <td>936</td>\n",
       "      <td>18969</td>\n",
       "      <td>0.049344</td>\n",
       "      <td>0.901313</td>\n",
       "      <td>17097.0</td>\n",
       "    </tr>\n",
       "    <tr>\n",
       "      <th>33</th>\n",
       "      <td>go</td>\n",
       "      <td>38843</td>\n",
       "      <td>22031</td>\n",
       "      <td>60874</td>\n",
       "      <td>0.361911</td>\n",
       "      <td>0.276177</td>\n",
       "      <td>16812.0</td>\n",
       "    </tr>\n",
       "    <tr>\n",
       "      <th>61</th>\n",
       "      <td>want</td>\n",
       "      <td>27179</td>\n",
       "      <td>10919</td>\n",
       "      <td>38098</td>\n",
       "      <td>0.286603</td>\n",
       "      <td>0.426794</td>\n",
       "      <td>16260.0</td>\n",
       "    </tr>\n",
       "    <tr>\n",
       "      <th>67</th>\n",
       "      <td>can't</td>\n",
       "      <td>25813</td>\n",
       "      <td>9951</td>\n",
       "      <td>35764</td>\n",
       "      <td>0.278241</td>\n",
       "      <td>0.443519</td>\n",
       "      <td>15862.0</td>\n",
       "    </tr>\n",
       "  </tbody>\n",
       "</table>\n",
       "</div>"
      ],
      "text/plain": [
       "      word    neg    pos  total  pos_ratio  intensity  total x intensity\n",
       "25     not  59359  25921  85280   0.303952   0.392097            33438.0\n",
       "76    miss  27753   4658  32411   0.143717   0.712567            23095.0\n",
       "43    love  12800  35220  48020   0.733444   0.466889            22420.0\n",
       "44      no  34460  13148  47608   0.276172   0.447656            21312.0\n",
       "46    work  32027  12681  44708   0.283641   0.432719            19346.0\n",
       "35    good  19707  38362  58069   0.660628   0.321256            18655.0\n",
       "121    sad  18033    936  18969   0.049344   0.901313            17097.0\n",
       "33      go  38843  22031  60874   0.361911   0.276177            16812.0\n",
       "61    want  27179  10919  38098   0.286603   0.426794            16260.0\n",
       "67   can't  25813   9951  35764   0.278241   0.443519            15862.0"
      ]
     },
     "execution_count": 83,
     "metadata": {},
     "output_type": "execute_result"
    }
   ],
   "source": [
    "# modify intensity to account for trustworthiness / quantity / total\n",
    "word_counts_filtered_df['total x intensity'] = (word_counts_filtered_df['intensity'] * word_counts_filtered_df['total'])\n",
    "word_counts_filtered_df = word_counts_filtered_df.sort_values(by='total x intensity', ascending=False)\n",
    "\n",
    "word_counts_filtered_df.head(10)"
   ]
  },
  {
   "cell_type": "markdown",
   "metadata": {},
   "source": [
    "It's unfortunate how 'work' is one of the most common negative words...Luckily it's not a very intense word, so even though people dislike work they don't hate it with their whole heart (yet). \n",
    "\n",
    "It is also interesting how 'go' is more likely in a negative than a positive tweet. However, it is true that most people don't like moving, or goodbyes (go)...\n",
    "\n",
    "Note that 8/10 of the common (somewhat) emotional words are negative..."
   ]
  },
  {
   "cell_type": "markdown",
   "metadata": {},
   "source": [
    "### Unfiltered / Neutral words left in place\n",
    "\n",
    "Let's also try it with unfiltered words since neutral words should be ranked low by intensity anyways. "
   ]
  },
  {
   "cell_type": "code",
   "execution_count": null,
   "metadata": {},
   "outputs": [
    {
     "data": {
      "application/vnd.microsoft.datawrangler.viewer.v0+json": {
       "columns": [
        {
         "name": "index",
         "rawType": "int64",
         "type": "integer"
        },
        {
         "name": "word",
         "rawType": "object",
         "type": "string"
        },
        {
         "name": "neg",
         "rawType": "int64",
         "type": "integer"
        },
        {
         "name": "pos",
         "rawType": "int64",
         "type": "integer"
        },
        {
         "name": "total",
         "rawType": "int64",
         "type": "integer"
        },
        {
         "name": "pos_ratio",
         "rawType": "float64",
         "type": "float"
        },
        {
         "name": "intensity",
         "rawType": "float64",
         "type": "float"
        }
       ],
       "conversionMethod": "pd.DataFrame",
       "ref": "b1da558a-19a8-46dd-82a0-e9f5d7459fd9",
       "rows": [
        [
         "961",
         "Sad",
         "1937",
         "80",
         "2017",
         "0.03966286564204264",
         "0.9206742687159147"
        ],
        [
         "675",
         "sad.",
         "2946",
         "138",
         "3084",
         "0.04474708171206226",
         "0.9105058365758755"
        ],
        [
         "1064",
         "#followfriday",
         "86",
         "1733",
         "1819",
         "0.9527212754260582",
         "0.9054425508521164"
        ],
        [
         "121",
         "sad",
         "18033",
         "936",
         "18969",
         "0.04934366598133797",
         "0.901312668037324"
        ],
        [
         "428",
         "hurts",
         "5168",
         "278",
         "5446",
         "0.05104663973558575",
         "0.8979067205288285"
        ]
       ],
       "shape": {
        "columns": 6,
        "rows": 5
       }
      },
      "text/html": [
       "<div>\n",
       "<style scoped>\n",
       "    .dataframe tbody tr th:only-of-type {\n",
       "        vertical-align: middle;\n",
       "    }\n",
       "\n",
       "    .dataframe tbody tr th {\n",
       "        vertical-align: top;\n",
       "    }\n",
       "\n",
       "    .dataframe thead th {\n",
       "        text-align: right;\n",
       "    }\n",
       "</style>\n",
       "<table border=\"1\" class=\"dataframe\">\n",
       "  <thead>\n",
       "    <tr style=\"text-align: right;\">\n",
       "      <th></th>\n",
       "      <th>word</th>\n",
       "      <th>neg</th>\n",
       "      <th>pos</th>\n",
       "      <th>total</th>\n",
       "      <th>pos_ratio</th>\n",
       "      <th>intensity</th>\n",
       "    </tr>\n",
       "  </thead>\n",
       "  <tbody>\n",
       "    <tr>\n",
       "      <th>961</th>\n",
       "      <td>Sad</td>\n",
       "      <td>1937</td>\n",
       "      <td>80</td>\n",
       "      <td>2017</td>\n",
       "      <td>0.039663</td>\n",
       "      <td>0.920674</td>\n",
       "    </tr>\n",
       "    <tr>\n",
       "      <th>675</th>\n",
       "      <td>sad.</td>\n",
       "      <td>2946</td>\n",
       "      <td>138</td>\n",
       "      <td>3084</td>\n",
       "      <td>0.044747</td>\n",
       "      <td>0.910506</td>\n",
       "    </tr>\n",
       "    <tr>\n",
       "      <th>1064</th>\n",
       "      <td>#followfriday</td>\n",
       "      <td>86</td>\n",
       "      <td>1733</td>\n",
       "      <td>1819</td>\n",
       "      <td>0.952721</td>\n",
       "      <td>0.905443</td>\n",
       "    </tr>\n",
       "    <tr>\n",
       "      <th>121</th>\n",
       "      <td>sad</td>\n",
       "      <td>18033</td>\n",
       "      <td>936</td>\n",
       "      <td>18969</td>\n",
       "      <td>0.049344</td>\n",
       "      <td>0.901313</td>\n",
       "    </tr>\n",
       "    <tr>\n",
       "      <th>428</th>\n",
       "      <td>hurts</td>\n",
       "      <td>5168</td>\n",
       "      <td>278</td>\n",
       "      <td>5446</td>\n",
       "      <td>0.051047</td>\n",
       "      <td>0.897907</td>\n",
       "    </tr>\n",
       "  </tbody>\n",
       "</table>\n",
       "</div>"
      ],
      "text/plain": [
       "               word    neg   pos  total  pos_ratio  intensity\n",
       "961             Sad   1937    80   2017   0.039663   0.920674\n",
       "675            sad.   2946   138   3084   0.044747   0.910506\n",
       "1064  #followfriday     86  1733   1819   0.952721   0.905443\n",
       "121             sad  18033   936  18969   0.049344   0.901313\n",
       "428           hurts   5168   278   5446   0.051047   0.897907"
      ]
     },
     "execution_count": 69,
     "metadata": {},
     "output_type": "execute_result"
    }
   ],
   "source": [
    "word_counts_df['pos_ratio'] = word_counts_df['pos'] / word_counts_df['total']\n",
    "word_counts_df['intensity'] = abs(word_counts_df['pos_ratio'] - 0.5) / 0.5  # [0, 1], how strongly the word is correlated with either positive or negative\n",
    "word_counts_df = word_counts_df.sort_values(by='intensity', ascending=False)\n",
    "word_counts_df = word_counts_df[word_counts_df['total'] > threshhold * TOTAL_NUMBER_OF_EXAMPLES]\n",
    "word_counts_df.head()"
   ]
  },
  {
   "cell_type": "code",
   "execution_count": null,
   "metadata": {},
   "outputs": [],
   "source": [
    "word_pos_df = word_counts_df[word_counts_df['pos_ratio'] > 0.5].sort_values(by='intensity', ascending=False)\n",
    "word_neg_df = word_counts_df[word_counts_df['pos_ratio'] < 0.5].sort_values(by='intensity', ascending=False)"
   ]
  },
  {
   "cell_type": "code",
   "execution_count": null,
   "metadata": {},
   "outputs": [
    {
     "data": {
      "application/vnd.microsoft.datawrangler.viewer.v0+json": {
       "columns": [
        {
         "name": "index",
         "rawType": "int64",
         "type": "integer"
        },
        {
         "name": "word",
         "rawType": "object",
         "type": "string"
        },
        {
         "name": "neg",
         "rawType": "int64",
         "type": "integer"
        },
        {
         "name": "pos",
         "rawType": "int64",
         "type": "integer"
        },
        {
         "name": "total",
         "rawType": "int64",
         "type": "integer"
        },
        {
         "name": "pos_ratio",
         "rawType": "float64",
         "type": "float"
        },
        {
         "name": "intensity",
         "rawType": "float64",
         "type": "float"
        }
       ],
       "conversionMethod": "pd.DataFrame",
       "ref": "367515f0-5a72-4475-be98-1399e7cbecea",
       "rows": [
        [
         "1064",
         "#followfriday",
         "86",
         "1733",
         "1819",
         "0.9527212754260582",
         "0.9054425508521164"
        ],
        [
         "598",
         "welcome",
         "281",
         "3352",
         "3633",
         "0.922653454445362",
         "0.8453069088907239"
        ],
        [
         "1151",
         "Welcome",
         "170",
         "1468",
         "1638",
         "0.8962148962148963",
         "0.7924297924297925"
        ],
        [
         "998",
         "Once",
         "202",
         "1735",
         "1937",
         "0.8957150232318017",
         "0.7914300464636035"
        ],
        [
         "944",
         "Thanks!",
         "217",
         "1832",
         "2049",
         "0.8940946803318692",
         "0.7881893606637385"
        ]
       ],
       "shape": {
        "columns": 6,
        "rows": 5
       }
      },
      "text/html": [
       "<div>\n",
       "<style scoped>\n",
       "    .dataframe tbody tr th:only-of-type {\n",
       "        vertical-align: middle;\n",
       "    }\n",
       "\n",
       "    .dataframe tbody tr th {\n",
       "        vertical-align: top;\n",
       "    }\n",
       "\n",
       "    .dataframe thead th {\n",
       "        text-align: right;\n",
       "    }\n",
       "</style>\n",
       "<table border=\"1\" class=\"dataframe\">\n",
       "  <thead>\n",
       "    <tr style=\"text-align: right;\">\n",
       "      <th></th>\n",
       "      <th>word</th>\n",
       "      <th>neg</th>\n",
       "      <th>pos</th>\n",
       "      <th>total</th>\n",
       "      <th>pos_ratio</th>\n",
       "      <th>intensity</th>\n",
       "    </tr>\n",
       "  </thead>\n",
       "  <tbody>\n",
       "    <tr>\n",
       "      <th>1064</th>\n",
       "      <td>#followfriday</td>\n",
       "      <td>86</td>\n",
       "      <td>1733</td>\n",
       "      <td>1819</td>\n",
       "      <td>0.952721</td>\n",
       "      <td>0.905443</td>\n",
       "    </tr>\n",
       "    <tr>\n",
       "      <th>598</th>\n",
       "      <td>welcome</td>\n",
       "      <td>281</td>\n",
       "      <td>3352</td>\n",
       "      <td>3633</td>\n",
       "      <td>0.922653</td>\n",
       "      <td>0.845307</td>\n",
       "    </tr>\n",
       "    <tr>\n",
       "      <th>1151</th>\n",
       "      <td>Welcome</td>\n",
       "      <td>170</td>\n",
       "      <td>1468</td>\n",
       "      <td>1638</td>\n",
       "      <td>0.896215</td>\n",
       "      <td>0.792430</td>\n",
       "    </tr>\n",
       "    <tr>\n",
       "      <th>998</th>\n",
       "      <td>Once</td>\n",
       "      <td>202</td>\n",
       "      <td>1735</td>\n",
       "      <td>1937</td>\n",
       "      <td>0.895715</td>\n",
       "      <td>0.791430</td>\n",
       "    </tr>\n",
       "    <tr>\n",
       "      <th>944</th>\n",
       "      <td>Thanks!</td>\n",
       "      <td>217</td>\n",
       "      <td>1832</td>\n",
       "      <td>2049</td>\n",
       "      <td>0.894095</td>\n",
       "      <td>0.788189</td>\n",
       "    </tr>\n",
       "  </tbody>\n",
       "</table>\n",
       "</div>"
      ],
      "text/plain": [
       "               word  neg   pos  total  pos_ratio  intensity\n",
       "1064  #followfriday   86  1733   1819   0.952721   0.905443\n",
       "598         welcome  281  3352   3633   0.922653   0.845307\n",
       "1151        Welcome  170  1468   1638   0.896215   0.792430\n",
       "998            Once  202  1735   1937   0.895715   0.791430\n",
       "944         Thanks!  217  1832   2049   0.894095   0.788189"
      ]
     },
     "execution_count": 71,
     "metadata": {},
     "output_type": "execute_result"
    }
   ],
   "source": [
    "word_pos_df.head()"
   ]
  },
  {
   "cell_type": "code",
   "execution_count": null,
   "metadata": {},
   "outputs": [
    {
     "data": {
      "application/vnd.microsoft.datawrangler.viewer.v0+json": {
       "columns": [
        {
         "name": "index",
         "rawType": "int64",
         "type": "integer"
        },
        {
         "name": "word",
         "rawType": "object",
         "type": "string"
        },
        {
         "name": "neg",
         "rawType": "int64",
         "type": "integer"
        },
        {
         "name": "pos",
         "rawType": "int64",
         "type": "integer"
        },
        {
         "name": "total",
         "rawType": "int64",
         "type": "integer"
        },
        {
         "name": "pos_ratio",
         "rawType": "float64",
         "type": "float"
        },
        {
         "name": "intensity",
         "rawType": "float64",
         "type": "float"
        }
       ],
       "conversionMethod": "pd.DataFrame",
       "ref": "c8862f5c-a6a4-4b6d-99f7-18b84a6df14c",
       "rows": [
        [
         "961",
         "Sad",
         "1937",
         "80",
         "2017",
         "0.03966286564204264",
         "0.9206742687159147"
        ],
        [
         "675",
         "sad.",
         "2946",
         "138",
         "3084",
         "0.04474708171206226",
         "0.9105058365758755"
        ],
        [
         "121",
         "sad",
         "18033",
         "936",
         "18969",
         "0.04934366598133797",
         "0.901312668037324"
        ],
        [
         "428",
         "hurts",
         "5168",
         "278",
         "5446",
         "0.05104663973558575",
         "0.8979067205288285"
        ],
        [
         "884",
         "throat",
         "2114",
         "134",
         "2248",
         "0.059608540925266906",
         "0.8807829181494662"
        ]
       ],
       "shape": {
        "columns": 6,
        "rows": 5
       }
      },
      "text/html": [
       "<div>\n",
       "<style scoped>\n",
       "    .dataframe tbody tr th:only-of-type {\n",
       "        vertical-align: middle;\n",
       "    }\n",
       "\n",
       "    .dataframe tbody tr th {\n",
       "        vertical-align: top;\n",
       "    }\n",
       "\n",
       "    .dataframe thead th {\n",
       "        text-align: right;\n",
       "    }\n",
       "</style>\n",
       "<table border=\"1\" class=\"dataframe\">\n",
       "  <thead>\n",
       "    <tr style=\"text-align: right;\">\n",
       "      <th></th>\n",
       "      <th>word</th>\n",
       "      <th>neg</th>\n",
       "      <th>pos</th>\n",
       "      <th>total</th>\n",
       "      <th>pos_ratio</th>\n",
       "      <th>intensity</th>\n",
       "    </tr>\n",
       "  </thead>\n",
       "  <tbody>\n",
       "    <tr>\n",
       "      <th>961</th>\n",
       "      <td>Sad</td>\n",
       "      <td>1937</td>\n",
       "      <td>80</td>\n",
       "      <td>2017</td>\n",
       "      <td>0.039663</td>\n",
       "      <td>0.920674</td>\n",
       "    </tr>\n",
       "    <tr>\n",
       "      <th>675</th>\n",
       "      <td>sad.</td>\n",
       "      <td>2946</td>\n",
       "      <td>138</td>\n",
       "      <td>3084</td>\n",
       "      <td>0.044747</td>\n",
       "      <td>0.910506</td>\n",
       "    </tr>\n",
       "    <tr>\n",
       "      <th>121</th>\n",
       "      <td>sad</td>\n",
       "      <td>18033</td>\n",
       "      <td>936</td>\n",
       "      <td>18969</td>\n",
       "      <td>0.049344</td>\n",
       "      <td>0.901313</td>\n",
       "    </tr>\n",
       "    <tr>\n",
       "      <th>428</th>\n",
       "      <td>hurts</td>\n",
       "      <td>5168</td>\n",
       "      <td>278</td>\n",
       "      <td>5446</td>\n",
       "      <td>0.051047</td>\n",
       "      <td>0.897907</td>\n",
       "    </tr>\n",
       "    <tr>\n",
       "      <th>884</th>\n",
       "      <td>throat</td>\n",
       "      <td>2114</td>\n",
       "      <td>134</td>\n",
       "      <td>2248</td>\n",
       "      <td>0.059609</td>\n",
       "      <td>0.880783</td>\n",
       "    </tr>\n",
       "  </tbody>\n",
       "</table>\n",
       "</div>"
      ],
      "text/plain": [
       "       word    neg  pos  total  pos_ratio  intensity\n",
       "961     Sad   1937   80   2017   0.039663   0.920674\n",
       "675    sad.   2946  138   3084   0.044747   0.910506\n",
       "121     sad  18033  936  18969   0.049344   0.901313\n",
       "428   hurts   5168  278   5446   0.051047   0.897907\n",
       "884  throat   2114  134   2248   0.059609   0.880783"
      ]
     },
     "execution_count": 72,
     "metadata": {},
     "output_type": "execute_result"
    }
   ],
   "source": [
    "word_neg_df.head()"
   ]
  },
  {
   "cell_type": "code",
   "execution_count": null,
   "metadata": {},
   "outputs": [
    {
     "name": "stdout",
     "output_type": "stream",
     "text": [
      "Top 20 positive words (unfiltered): ['#followfriday' 'welcome' 'Welcome' 'Once' 'Thanks!' 'Thank' 'Thanks'\n",
      " 'smile' 'proud' 'thanks!' 'thank' 'thanks' 'Happy' 'Nice' 'wonderful'\n",
      " 'Goodnight' 'Get' 'Hi' 'Hello' 'Glad']\n",
      "Top 20 negative words (unfiltered): ['Sad' 'sad.' 'sad' 'hurts' 'throat' 'headache' 'Poor' 'upset' 'sucks'\n",
      " 'died' 'sick.' 'sick' 'tummy' 'ugh' 'stomach' 'poor' 'horrible' 'broken'\n",
      " 'sucks.' 'worst']\n"
     ]
    }
   ],
   "source": [
    "NUMBER_OF_WORDS: int = 20\n",
    "print(f\"Top {NUMBER_OF_WORDS} positive words (unfiltered): {word_pos_df['word'].iloc[:NUMBER_OF_WORDS].values}\")\n",
    "print(f\"Top {NUMBER_OF_WORDS} negative words (unfiltered): {word_neg_df['word'].iloc[:NUMBER_OF_WORDS].values}\")"
   ]
  },
  {
   "cell_type": "markdown",
   "metadata": {},
   "source": [
    "Compare this with the result from filtered words: \n",
    "\n",
    "- Positive: ['#followfriday' 'welcome' 'Welcome' 'Once' 'Thanks!' 'Thank' 'Thanks' 'smile' 'proud' 'thanks!' 'thank' 'thanks' 'Happy' 'Nice' 'wonderful' 'Goodnight' 'Get' 'Hi' 'Hello' 'Glad']\n",
    "- Negative: ['Sad' 'sad.' 'sad' 'hurts' 'throat' 'headache' 'Poor' 'upset' 'sucks' 'died' 'sick.' 'sick' 'tummy' 'ugh' 'stomach' 'poor' 'horrible' 'broken' 'sucks.' 'worst']\n",
    "\n",
    "They are exactly the same! Which means intensity does help filter out neutral words :)"
   ]
  },
  {
   "cell_type": "markdown",
   "metadata": {},
   "source": [
    "## Bigrams / Two words\n",
    "\n",
    "Let's try out the same idea with bigrams. "
   ]
  },
  {
   "cell_type": "code",
   "execution_count": null,
   "metadata": {},
   "outputs": [
    {
     "name": "stdout",
     "output_type": "stream",
     "text": [
      "Counting words...\n",
      "Converting bigram_counts to Pandas Dataframe...\n"
     ]
    },
    {
     "data": {
      "application/vnd.microsoft.datawrangler.viewer.v0+json": {
       "columns": [
        {
         "name": "index",
         "rawType": "int64",
         "type": "integer"
        },
        {
         "name": "bigram",
         "rawType": "object",
         "type": "string"
        },
        {
         "name": "neg",
         "rawType": "int64",
         "type": "integer"
        },
        {
         "name": "pos",
         "rawType": "int64",
         "type": "integer"
        },
        {
         "name": "total",
         "rawType": "int64",
         "type": "integer"
        }
       ],
       "conversionMethod": "pd.DataFrame",
       "ref": "e2bb2ee9-6e72-4e4c-9eef-ca4e36c26961",
       "rows": [
        [
         "485",
         "on the",
         "24304",
         "25291",
         "49595"
        ],
        [
         "158",
         "the i",
         "24333",
         "15643",
         "39976"
        ],
        [
         "60",
         "my and",
         "23260",
         "15946",
         "39206"
        ],
        [
         "278",
         "to have",
         "23357",
         "13013",
         "36370"
        ],
        [
         "326",
         "to a",
         "16259",
         "16921",
         "33180"
        ]
       ],
       "shape": {
        "columns": 4,
        "rows": 5
       }
      },
      "text/html": [
       "<div>\n",
       "<style scoped>\n",
       "    .dataframe tbody tr th:only-of-type {\n",
       "        vertical-align: middle;\n",
       "    }\n",
       "\n",
       "    .dataframe tbody tr th {\n",
       "        vertical-align: top;\n",
       "    }\n",
       "\n",
       "    .dataframe thead th {\n",
       "        text-align: right;\n",
       "    }\n",
       "</style>\n",
       "<table border=\"1\" class=\"dataframe\">\n",
       "  <thead>\n",
       "    <tr style=\"text-align: right;\">\n",
       "      <th></th>\n",
       "      <th>bigram</th>\n",
       "      <th>neg</th>\n",
       "      <th>pos</th>\n",
       "      <th>total</th>\n",
       "    </tr>\n",
       "  </thead>\n",
       "  <tbody>\n",
       "    <tr>\n",
       "      <th>485</th>\n",
       "      <td>on the</td>\n",
       "      <td>24304</td>\n",
       "      <td>25291</td>\n",
       "      <td>49595</td>\n",
       "    </tr>\n",
       "    <tr>\n",
       "      <th>158</th>\n",
       "      <td>the i</td>\n",
       "      <td>24333</td>\n",
       "      <td>15643</td>\n",
       "      <td>39976</td>\n",
       "    </tr>\n",
       "    <tr>\n",
       "      <th>60</th>\n",
       "      <td>my and</td>\n",
       "      <td>23260</td>\n",
       "      <td>15946</td>\n",
       "      <td>39206</td>\n",
       "    </tr>\n",
       "    <tr>\n",
       "      <th>278</th>\n",
       "      <td>to have</td>\n",
       "      <td>23357</td>\n",
       "      <td>13013</td>\n",
       "      <td>36370</td>\n",
       "    </tr>\n",
       "    <tr>\n",
       "      <th>326</th>\n",
       "      <td>to a</td>\n",
       "      <td>16259</td>\n",
       "      <td>16921</td>\n",
       "      <td>33180</td>\n",
       "    </tr>\n",
       "  </tbody>\n",
       "</table>\n",
       "</div>"
      ],
      "text/plain": [
       "      bigram    neg    pos  total\n",
       "485   on the  24304  25291  49595\n",
       "158    the i  24333  15643  39976\n",
       "60    my and  23260  15946  39206\n",
       "278  to have  23357  13013  36370\n",
       "326     to a  16259  16921  33180"
      ]
     },
     "execution_count": 74,
     "metadata": {},
     "output_type": "execute_result"
    }
   ],
   "source": [
    "# generated by GitHub Copilot with minor edits\n",
    "# runtime: 60s\n",
    "\n",
    "print(\"Counting words...\")\n",
    "bigram_counts: Dict[str, Dict[int, int]] = {}  # bigram -> target -> frequency\n",
    "\n",
    "for i, row in df.iterrows():\n",
    "    words: List[str] = list(set(row['text'].split()))\n",
    "    target: int = row['target']\n",
    "    for i in range(len(words)-1):\n",
    "        bigram: str = \" \".join(words[i:i+2])\n",
    "        if bigram in bigram_counts:\n",
    "            bigram_counts[bigram][target] += 1\n",
    "        else:\n",
    "            bigram_counts[bigram] = {0: 0, 1: 0}  # initialize\n",
    "            bigram_counts[bigram][target] = 1\n",
    "\n",
    "# runtime: 15s\n",
    "print(\"Converting bigram_counts to Pandas Dataframe...\")\n",
    "bigram_counts_df = pd.DataFrame(bigram_counts).T.reset_index()\n",
    "bigram_counts_df.columns = ['bigram', 'neg', 'pos']\n",
    "bigram_counts_df['total'] = bigram_counts_df['neg'] + bigram_counts_df['pos']\n",
    "bigram_counts_df = bigram_counts_df.sort_values(by='total', ascending=False)\n",
    "\n",
    "bigram_counts_df.head()"
   ]
  },
  {
   "cell_type": "code",
   "execution_count": null,
   "metadata": {},
   "outputs": [
    {
     "data": {
      "image/png": "[encoded data removed]",
      "text/plain": [
       "<Figure size 500x300 with 1 Axes>"
      ]
     },
     "metadata": {},
     "output_type": "display_data"
    }
   ],
   "source": [
    "# generated by GitHub Copilot with minor edits\n",
    "\n",
    "# Plot the distribution of the bigrams\n",
    "num_bins = 100\n",
    "# I don't know how to plot an equal area histogram...it's all white...\n",
    "# bin_edges = np.percentile(bigram_counts_df['total'], np.linspace(0, 100, num_bins + 1))\n",
    "# bin_edges = np.interp(np.linspace(0, len(data), num_bins + 1), np.arange(len(data)), np.sort(data))\n",
    "\n",
    "plt.figure(figsize=(5, 3))\n",
    "plt.hist(bigram_counts_df['total'], bins=num_bins)\n",
    "plt.title('Distribution of Bigram Counts')\n",
    "plt.xlabel('Bigrams Count')\n",
    "plt.ylabel('Number of bigrams with the same count')\n",
    "plt.grid(axis='y', linestyle='--', alpha=0.7)\n",
    "plt.show()"
   ]
  },
  {
   "cell_type": "markdown",
   "metadata": {},
   "source": [
    "The histogram confirms the fact that most bigrams are rare (people tend to say different word pairs). "
   ]
  },
  {
   "cell_type": "code",
   "execution_count": null,
   "metadata": {},
   "outputs": [
    {
     "data": {
      "application/vnd.microsoft.datawrangler.viewer.v0+json": {
       "columns": [
        {
         "name": "index",
         "rawType": "int64",
         "type": "integer"
        },
        {
         "name": "bigram",
         "rawType": "object",
         "type": "string"
        },
        {
         "name": "neg",
         "rawType": "int64",
         "type": "integer"
        },
        {
         "name": "pos",
         "rawType": "int64",
         "type": "integer"
        },
        {
         "name": "total",
         "rawType": "int64",
         "type": "integer"
        },
        {
         "name": "pos_ratio",
         "rawType": "float64",
         "type": "float"
        },
        {
         "name": "intensity",
         "rawType": "float64",
         "type": "float"
        }
       ],
       "conversionMethod": "pd.DataFrame",
       "ref": "e90831c0-9663-4d8a-9b0f-1bf6f1e28a0b",
       "rows": [
        [
         "5981056",
         "#Java 21%",
         "0",
         "1",
         "1",
         "1.0",
         "1.0"
        ],
        [
         "2025500",
         "@Jeremiah_G I",
         "1",
         "0",
         "1",
         "0.0",
         "1.0"
        ],
        [
         "2025487",
         "both Finish",
         "1",
         "0",
         "1",
         "0.0",
         "1.0"
        ],
        [
         "2025488",
         "Finish New",
         "1",
         "0",
         "1",
         "0.0",
         "1.0"
        ],
        [
         "2025489",
         "tomorrow batteries",
         "1",
         "0",
         "1",
         "0.0",
         "1.0"
        ]
       ],
       "shape": {
        "columns": 6,
        "rows": 5
       }
      },
      "text/html": [
       "<div>\n",
       "<style scoped>\n",
       "    .dataframe tbody tr th:only-of-type {\n",
       "        vertical-align: middle;\n",
       "    }\n",
       "\n",
       "    .dataframe tbody tr th {\n",
       "        vertical-align: top;\n",
       "    }\n",
       "\n",
       "    .dataframe thead th {\n",
       "        text-align: right;\n",
       "    }\n",
       "</style>\n",
       "<table border=\"1\" class=\"dataframe\">\n",
       "  <thead>\n",
       "    <tr style=\"text-align: right;\">\n",
       "      <th></th>\n",
       "      <th>bigram</th>\n",
       "      <th>neg</th>\n",
       "      <th>pos</th>\n",
       "      <th>total</th>\n",
       "      <th>pos_ratio</th>\n",
       "      <th>intensity</th>\n",
       "    </tr>\n",
       "  </thead>\n",
       "  <tbody>\n",
       "    <tr>\n",
       "      <th>5981056</th>\n",
       "      <td>#Java 21%</td>\n",
       "      <td>0</td>\n",
       "      <td>1</td>\n",
       "      <td>1</td>\n",
       "      <td>1.0</td>\n",
       "      <td>1.0</td>\n",
       "    </tr>\n",
       "    <tr>\n",
       "      <th>2025500</th>\n",
       "      <td>@Jeremiah_G I</td>\n",
       "      <td>1</td>\n",
       "      <td>0</td>\n",
       "      <td>1</td>\n",
       "      <td>0.0</td>\n",
       "      <td>1.0</td>\n",
       "    </tr>\n",
       "    <tr>\n",
       "      <th>2025487</th>\n",
       "      <td>both Finish</td>\n",
       "      <td>1</td>\n",
       "      <td>0</td>\n",
       "      <td>1</td>\n",
       "      <td>0.0</td>\n",
       "      <td>1.0</td>\n",
       "    </tr>\n",
       "    <tr>\n",
       "      <th>2025488</th>\n",
       "      <td>Finish New</td>\n",
       "      <td>1</td>\n",
       "      <td>0</td>\n",
       "      <td>1</td>\n",
       "      <td>0.0</td>\n",
       "      <td>1.0</td>\n",
       "    </tr>\n",
       "    <tr>\n",
       "      <th>2025489</th>\n",
       "      <td>tomorrow batteries</td>\n",
       "      <td>1</td>\n",
       "      <td>0</td>\n",
       "      <td>1</td>\n",
       "      <td>0.0</td>\n",
       "      <td>1.0</td>\n",
       "    </tr>\n",
       "  </tbody>\n",
       "</table>\n",
       "</div>"
      ],
      "text/plain": [
       "                     bigram  neg  pos  total  pos_ratio  intensity\n",
       "5981056           #Java 21%    0    1      1        1.0        1.0\n",
       "2025500       @Jeremiah_G I    1    0      1        0.0        1.0\n",
       "2025487         both Finish    1    0      1        0.0        1.0\n",
       "2025488          Finish New    1    0      1        0.0        1.0\n",
       "2025489  tomorrow batteries    1    0      1        0.0        1.0"
      ]
     },
     "execution_count": 76,
     "metadata": {},
     "output_type": "execute_result"
    }
   ],
   "source": [
    "bigram_counts_df['pos_ratio'] = bigram_counts_df['pos'] / bigram_counts_df['total']\n",
    "bigram_counts_df['intensity'] = abs(bigram_counts_df['pos_ratio'] - 0.5) / 0.5  # [0, 1], how strongly the word is correlated with either positive or negative\n",
    "bigram_counts_df = bigram_counts_df.sort_values(by='intensity', ascending=False)\n",
    "\n",
    "bigram_counts_df.head()"
   ]
  },
  {
   "cell_type": "markdown",
   "metadata": {},
   "source": [
    "Again, let us find the most emotionally intense ~~words~~ bigrams."
   ]
  },
  {
   "cell_type": "code",
   "execution_count": null,
   "metadata": {},
   "outputs": [
    {
     "data": {
      "application/vnd.microsoft.datawrangler.viewer.v0+json": {
       "columns": [
        {
         "name": "index",
         "rawType": "int64",
         "type": "integer"
        },
        {
         "name": "bigram",
         "rawType": "object",
         "type": "string"
        },
        {
         "name": "neg",
         "rawType": "int64",
         "type": "integer"
        },
        {
         "name": "pos",
         "rawType": "int64",
         "type": "integer"
        },
        {
         "name": "total",
         "rawType": "int64",
         "type": "integer"
        },
        {
         "name": "pos_ratio",
         "rawType": "float64",
         "type": "float"
        },
        {
         "name": "intensity",
         "rawType": "float64",
         "type": "float"
        }
       ],
       "conversionMethod": "pd.DataFrame",
       "ref": "884e0242-ef24-4be3-808e-1af62c8c9e7f",
       "rows": [
        [
         "42721",
         "a Get",
         "82",
         "1659",
         "1741",
         "0.9529006318207927",
         "0.9058012636415853"
        ],
        [
         "23029",
         "you thank",
         "86",
         "1633",
         "1719",
         "0.9499709133216987",
         "0.8999418266433974"
        ],
        [
         "763",
         "my miss",
         "4072",
         "335",
         "4407",
         "0.07601542999773088",
         "0.8479691400045383"
        ],
        [
         "2021",
         "I'm sorry",
         "1752",
         "149",
         "1901",
         "0.07837980010520779",
         "0.8432403997895844"
        ],
        [
         "2022",
         "sorry to",
         "1703",
         "181",
         "1884",
         "0.09607218683651805",
         "0.8078556263269638"
        ]
       ],
       "shape": {
        "columns": 6,
        "rows": 5
       }
      },
      "text/html": [
       "<div>\n",
       "<style scoped>\n",
       "    .dataframe tbody tr th:only-of-type {\n",
       "        vertical-align: middle;\n",
       "    }\n",
       "\n",
       "    .dataframe tbody tr th {\n",
       "        vertical-align: top;\n",
       "    }\n",
       "\n",
       "    .dataframe thead th {\n",
       "        text-align: right;\n",
       "    }\n",
       "</style>\n",
       "<table border=\"1\" class=\"dataframe\">\n",
       "  <thead>\n",
       "    <tr style=\"text-align: right;\">\n",
       "      <th></th>\n",
       "      <th>bigram</th>\n",
       "      <th>neg</th>\n",
       "      <th>pos</th>\n",
       "      <th>total</th>\n",
       "      <th>pos_ratio</th>\n",
       "      <th>intensity</th>\n",
       "    </tr>\n",
       "  </thead>\n",
       "  <tbody>\n",
       "    <tr>\n",
       "      <th>42721</th>\n",
       "      <td>a Get</td>\n",
       "      <td>82</td>\n",
       "      <td>1659</td>\n",
       "      <td>1741</td>\n",
       "      <td>0.952901</td>\n",
       "      <td>0.905801</td>\n",
       "    </tr>\n",
       "    <tr>\n",
       "      <th>23029</th>\n",
       "      <td>you thank</td>\n",
       "      <td>86</td>\n",
       "      <td>1633</td>\n",
       "      <td>1719</td>\n",
       "      <td>0.949971</td>\n",
       "      <td>0.899942</td>\n",
       "    </tr>\n",
       "    <tr>\n",
       "      <th>763</th>\n",
       "      <td>my miss</td>\n",
       "      <td>4072</td>\n",
       "      <td>335</td>\n",
       "      <td>4407</td>\n",
       "      <td>0.076015</td>\n",
       "      <td>0.847969</td>\n",
       "    </tr>\n",
       "    <tr>\n",
       "      <th>2021</th>\n",
       "      <td>I'm sorry</td>\n",
       "      <td>1752</td>\n",
       "      <td>149</td>\n",
       "      <td>1901</td>\n",
       "      <td>0.078380</td>\n",
       "      <td>0.843240</td>\n",
       "    </tr>\n",
       "    <tr>\n",
       "      <th>2022</th>\n",
       "      <td>sorry to</td>\n",
       "      <td>1703</td>\n",
       "      <td>181</td>\n",
       "      <td>1884</td>\n",
       "      <td>0.096072</td>\n",
       "      <td>0.807856</td>\n",
       "    </tr>\n",
       "  </tbody>\n",
       "</table>\n",
       "</div>"
      ],
      "text/plain": [
       "          bigram   neg   pos  total  pos_ratio  intensity\n",
       "42721      a Get    82  1659   1741   0.952901   0.905801\n",
       "23029  you thank    86  1633   1719   0.949971   0.899942\n",
       "763      my miss  4072   335   4407   0.076015   0.847969\n",
       "2021   I'm sorry  1752   149   1901   0.078380   0.843240\n",
       "2022    sorry to  1703   181   1884   0.096072   0.807856"
      ]
     },
     "execution_count": 77,
     "metadata": {},
     "output_type": "execute_result"
    }
   ],
   "source": [
    "bigram_threshhold: float = 0.0001  # minimum relative frequency; play with this\n",
    "\n",
    "bigram_counts_df = bigram_counts_df[bigram_counts_df['total'] > bigram_threshhold * TOTAL_NUMBER_OF_EXAMPLES]\n",
    "bigram_counts_df.head()"
   ]
  },
  {
   "cell_type": "code",
   "execution_count": null,
   "metadata": {},
   "outputs": [],
   "source": [
    "bigram_pos_df = bigram_counts_df[bigram_counts_df['pos_ratio'] > 0.5].sort_values(by='intensity', ascending=False)\n",
    "bigram_neg_df = bigram_counts_df[bigram_counts_df['pos_ratio'] < 0.5].sort_values(by='intensity', ascending=False)"
   ]
  },
  {
   "cell_type": "code",
   "execution_count": null,
   "metadata": {},
   "outputs": [
    {
     "data": {
      "application/vnd.microsoft.datawrangler.viewer.v0+json": {
       "columns": [
        {
         "name": "index",
         "rawType": "int64",
         "type": "integer"
        },
        {
         "name": "bigram",
         "rawType": "object",
         "type": "string"
        },
        {
         "name": "neg",
         "rawType": "int64",
         "type": "integer"
        },
        {
         "name": "pos",
         "rawType": "int64",
         "type": "integer"
        },
        {
         "name": "total",
         "rawType": "int64",
         "type": "integer"
        },
        {
         "name": "pos_ratio",
         "rawType": "float64",
         "type": "float"
        },
        {
         "name": "intensity",
         "rawType": "float64",
         "type": "float"
        }
       ],
       "conversionMethod": "pd.DataFrame",
       "ref": "14c22138-87ca-48ea-9971-e899d463e051",
       "rows": [
        [
         "42721",
         "a Get",
         "82",
         "1659",
         "1741",
         "0.9529006318207927",
         "0.9058012636415853"
        ],
        [
         "23029",
         "you thank",
         "86",
         "1633",
         "1719",
         "0.9499709133216987",
         "0.8999418266433974"
        ],
        [
         "461",
         "day or",
         "251",
         "1697",
         "1948",
         "0.8711498973305954",
         "0.7422997946611909"
        ],
        [
         "33520",
         "thanks the",
         "333",
         "2046",
         "2379",
         "0.8600252206809584",
         "0.7200504413619169"
        ],
        [
         "3719",
         "you day",
         "783",
         "3151",
         "3934",
         "0.8009659379766141",
         "0.6019318759532282"
        ]
       ],
       "shape": {
        "columns": 6,
        "rows": 5
       }
      },
      "text/html": [
       "<div>\n",
       "<style scoped>\n",
       "    .dataframe tbody tr th:only-of-type {\n",
       "        vertical-align: middle;\n",
       "    }\n",
       "\n",
       "    .dataframe tbody tr th {\n",
       "        vertical-align: top;\n",
       "    }\n",
       "\n",
       "    .dataframe thead th {\n",
       "        text-align: right;\n",
       "    }\n",
       "</style>\n",
       "<table border=\"1\" class=\"dataframe\">\n",
       "  <thead>\n",
       "    <tr style=\"text-align: right;\">\n",
       "      <th></th>\n",
       "      <th>bigram</th>\n",
       "      <th>neg</th>\n",
       "      <th>pos</th>\n",
       "      <th>total</th>\n",
       "      <th>pos_ratio</th>\n",
       "      <th>intensity</th>\n",
       "    </tr>\n",
       "  </thead>\n",
       "  <tbody>\n",
       "    <tr>\n",
       "      <th>42721</th>\n",
       "      <td>a Get</td>\n",
       "      <td>82</td>\n",
       "      <td>1659</td>\n",
       "      <td>1741</td>\n",
       "      <td>0.952901</td>\n",
       "      <td>0.905801</td>\n",
       "    </tr>\n",
       "    <tr>\n",
       "      <th>23029</th>\n",
       "      <td>you thank</td>\n",
       "      <td>86</td>\n",
       "      <td>1633</td>\n",
       "      <td>1719</td>\n",
       "      <td>0.949971</td>\n",
       "      <td>0.899942</td>\n",
       "    </tr>\n",
       "    <tr>\n",
       "      <th>461</th>\n",
       "      <td>day or</td>\n",
       "      <td>251</td>\n",
       "      <td>1697</td>\n",
       "      <td>1948</td>\n",
       "      <td>0.871150</td>\n",
       "      <td>0.742300</td>\n",
       "    </tr>\n",
       "    <tr>\n",
       "      <th>33520</th>\n",
       "      <td>thanks the</td>\n",
       "      <td>333</td>\n",
       "      <td>2046</td>\n",
       "      <td>2379</td>\n",
       "      <td>0.860025</td>\n",
       "      <td>0.720050</td>\n",
       "    </tr>\n",
       "    <tr>\n",
       "      <th>3719</th>\n",
       "      <td>you day</td>\n",
       "      <td>783</td>\n",
       "      <td>3151</td>\n",
       "      <td>3934</td>\n",
       "      <td>0.800966</td>\n",
       "      <td>0.601932</td>\n",
       "    </tr>\n",
       "  </tbody>\n",
       "</table>\n",
       "</div>"
      ],
      "text/plain": [
       "           bigram  neg   pos  total  pos_ratio  intensity\n",
       "42721       a Get   82  1659   1741   0.952901   0.905801\n",
       "23029   you thank   86  1633   1719   0.949971   0.899942\n",
       "461        day or  251  1697   1948   0.871150   0.742300\n",
       "33520  thanks the  333  2046   2379   0.860025   0.720050\n",
       "3719      you day  783  3151   3934   0.800966   0.601932"
      ]
     },
     "execution_count": 79,
     "metadata": {},
     "output_type": "execute_result"
    }
   ],
   "source": [
    "bigram_pos_df.head()"
   ]
  },
  {
   "cell_type": "code",
   "execution_count": null,
   "metadata": {},
   "outputs": [
    {
     "data": {
      "application/vnd.microsoft.datawrangler.viewer.v0+json": {
       "columns": [
        {
         "name": "index",
         "rawType": "int64",
         "type": "integer"
        },
        {
         "name": "bigram",
         "rawType": "object",
         "type": "string"
        },
        {
         "name": "neg",
         "rawType": "int64",
         "type": "integer"
        },
        {
         "name": "pos",
         "rawType": "int64",
         "type": "integer"
        },
        {
         "name": "total",
         "rawType": "int64",
         "type": "integer"
        },
        {
         "name": "pos_ratio",
         "rawType": "float64",
         "type": "float"
        },
        {
         "name": "intensity",
         "rawType": "float64",
         "type": "float"
        }
       ],
       "conversionMethod": "pd.DataFrame",
       "ref": "965395de-a28e-4076-987e-72a1442fb9fa",
       "rows": [
        [
         "763",
         "my miss",
         "4072",
         "335",
         "4407",
         "0.07601542999773088",
         "0.8479691400045383"
        ],
        [
         "2021",
         "I'm sorry",
         "1752",
         "149",
         "1901",
         "0.07837980010520779",
         "0.8432403997895844"
        ],
        [
         "2022",
         "sorry to",
         "1703",
         "181",
         "1884",
         "0.09607218683651805",
         "0.8078556263269638"
        ],
        [
         "3536",
         "miss so",
         "1774",
         "294",
         "2068",
         "0.14216634429400388",
         "0.7156673114119922"
        ],
        [
         "9845",
         "I wish",
         "2330",
         "457",
         "2787",
         "0.16397560100466452",
         "0.672048797990671"
        ]
       ],
       "shape": {
        "columns": 6,
        "rows": 5
       }
      },
      "text/html": [
       "<div>\n",
       "<style scoped>\n",
       "    .dataframe tbody tr th:only-of-type {\n",
       "        vertical-align: middle;\n",
       "    }\n",
       "\n",
       "    .dataframe tbody tr th {\n",
       "        vertical-align: top;\n",
       "    }\n",
       "\n",
       "    .dataframe thead th {\n",
       "        text-align: right;\n",
       "    }\n",
       "</style>\n",
       "<table border=\"1\" class=\"dataframe\">\n",
       "  <thead>\n",
       "    <tr style=\"text-align: right;\">\n",
       "      <th></th>\n",
       "      <th>bigram</th>\n",
       "      <th>neg</th>\n",
       "      <th>pos</th>\n",
       "      <th>total</th>\n",
       "      <th>pos_ratio</th>\n",
       "      <th>intensity</th>\n",
       "    </tr>\n",
       "  </thead>\n",
       "  <tbody>\n",
       "    <tr>\n",
       "      <th>763</th>\n",
       "      <td>my miss</td>\n",
       "      <td>4072</td>\n",
       "      <td>335</td>\n",
       "      <td>4407</td>\n",
       "      <td>0.076015</td>\n",
       "      <td>0.847969</td>\n",
       "    </tr>\n",
       "    <tr>\n",
       "      <th>2021</th>\n",
       "      <td>I'm sorry</td>\n",
       "      <td>1752</td>\n",
       "      <td>149</td>\n",
       "      <td>1901</td>\n",
       "      <td>0.078380</td>\n",
       "      <td>0.843240</td>\n",
       "    </tr>\n",
       "    <tr>\n",
       "      <th>2022</th>\n",
       "      <td>sorry to</td>\n",
       "      <td>1703</td>\n",
       "      <td>181</td>\n",
       "      <td>1884</td>\n",
       "      <td>0.096072</td>\n",
       "      <td>0.807856</td>\n",
       "    </tr>\n",
       "    <tr>\n",
       "      <th>3536</th>\n",
       "      <td>miss so</td>\n",
       "      <td>1774</td>\n",
       "      <td>294</td>\n",
       "      <td>2068</td>\n",
       "      <td>0.142166</td>\n",
       "      <td>0.715667</td>\n",
       "    </tr>\n",
       "    <tr>\n",
       "      <th>9845</th>\n",
       "      <td>I wish</td>\n",
       "      <td>2330</td>\n",
       "      <td>457</td>\n",
       "      <td>2787</td>\n",
       "      <td>0.163976</td>\n",
       "      <td>0.672049</td>\n",
       "    </tr>\n",
       "  </tbody>\n",
       "</table>\n",
       "</div>"
      ],
      "text/plain": [
       "         bigram   neg  pos  total  pos_ratio  intensity\n",
       "763     my miss  4072  335   4407   0.076015   0.847969\n",
       "2021  I'm sorry  1752  149   1901   0.078380   0.843240\n",
       "2022   sorry to  1703  181   1884   0.096072   0.807856\n",
       "3536    miss so  1774  294   2068   0.142166   0.715667\n",
       "9845     I wish  2330  457   2787   0.163976   0.672049"
      ]
     },
     "execution_count": 80,
     "metadata": {},
     "output_type": "execute_result"
    }
   ],
   "source": [
    "bigram_neg_df.head()"
   ]
  },
  {
   "cell_type": "code",
   "execution_count": null,
   "metadata": {},
   "outputs": [
    {
     "name": "stdout",
     "output_type": "stream",
     "text": [
      "Top 20 positive bigrams: ['a Get' 'you thank' 'day or' 'thanks the' 'you day' 'great a' 'the your'\n",
      " 'to listening' 'the for' 'let know' 'so love' 'you the' 'you some'\n",
      " 'good time' 'love of' 'with your' 'you on' 'love is' 'love at' 'good to']\n",
      "Top 20 negative bigrams: ['my miss' \"I'm sorry\" 'sorry to' 'miss so' 'I wish' 'me miss' 'wish to'\n",
      " 'i want' 'I wanna' 'but to' 'why i' \"but can't\" 'go i' 'i wanna' 'no for'\n",
      " 'no but' 'I no' 'go I' 'to missed' 'for wish']\n"
     ]
    }
   ],
   "source": [
    "NUMBER_OF_WORDS = 20\n",
    "\n",
    "print(f\"Top {NUMBER_OF_WORDS} positive bigrams: {bigram_pos_df['bigram'].iloc[:NUMBER_OF_WORDS].values}\")\n",
    "print(f\"Top {NUMBER_OF_WORDS} negative bigrams: {bigram_neg_df['bigram'].iloc[:NUMBER_OF_WORDS].values}\")"
   ]
  },
  {
   "cell_type": "markdown",
   "metadata": {},
   "source": [
    "Compare this result with the top 20 words (unfiltered): \n",
    "\n",
    "- Positive: ['#followfriday' 'welcome' 'Welcome' 'Once' 'Thanks!' 'Thank' 'Thanks' 'smile' 'proud' 'thanks!' 'thank' 'thanks' 'Happy' 'Nice' 'wonderful' 'Goodnight' 'Get' 'Hi' 'Hello' 'Glad']\n",
    "- Negative: ['Sad' 'sad.' 'sad' 'hurts' 'throat' 'headache' 'Poor' 'upset' 'sucks' 'died' 'sick.' 'sick' 'tummy' 'ugh' 'stomach' 'poor' 'horrible' 'broken' 'sucks.' 'worst']\n",
    "\n",
    "##### Positive\n",
    "For positive, words like 'thank' and 'love' overlap, but we also see new information. It is interesting how 'good' made it into the top 20 not with unigrams but with bigrams, and how 'listening' and 'with' are also strongly positive words. \n",
    "\n",
    "##### Negative\n",
    "For negative, the list completely changed. Notice that 'sad', 'sick', 'sucks' and its variations completely disappeared from the list and is replaced with 'miss', 'sorry', 'wish', 'want', 'no'. It seems like bigrams could be good at capturing the negative emotion of sympathy/regret/disappointment (for not having one's desires fulfilled), whereas unigrams are better with sadnesses more direcly expressed and pain. This makes sense since it's hard for one word to embed complex emotion. \n",
    "\n",
    "##### You vs. I\n",
    "Can't help but notice that bigrams reveal the deep truth that we become happier when we think about ourselves less (humility): 7/20 of the top 20 positive bigrams contains 'you' or a variation, and 11/20 of the top 20 negative bigrams contains 'I' or a variation. (Don't think this will help a lot with classification but it's such good evidence supporting the wisdom of God's commandments.)"
   ]
  },
  {
   "cell_type": "code",
   "execution_count": null,
   "metadata": {},
   "outputs": [
    {
     "data": {
      "image/png": "[encoded data removed]",
      "text/plain": [
       "<Figure size 500x300 with 1 Axes>"
      ]
     },
     "metadata": {},
     "output_type": "display_data"
    },
    {
     "data": {
      "image/png": "[encoded data removed]",
      "text/plain": [
       "<Figure size 500x300 with 1 Axes>"
      ]
     },
     "metadata": {},
     "output_type": "display_data"
    }
   ],
   "source": [
    "# Plot the distribution of intensity\n",
    "\n",
    "# bin = 100\n",
    "plt.figure(figsize=(5, 3))\n",
    "plt.hist(bigram_counts_df['intensity'], bins=100)\n",
    "plt.title('Distribution of Emotional Intensity of Words')\n",
    "plt.xlabel('Emotional Intensity of Word')\n",
    "plt.ylabel('Frequency')\n",
    "plt.grid(axis='y', linestyle='--', alpha=0.7)\n",
    "plt.show()\n",
    "\n",
    "# bin = 10\n",
    "plt.figure(figsize=(5, 3))\n",
    "plt.hist(bigram_counts_df['intensity'], bins=10)\n",
    "plt.title('Distribution of Emotional Intensity of Bigrams')\n",
    "plt.xlabel('Emotional Intensity of Bigrams')\n",
    "plt.ylabel('Frequency')\n",
    "plt.grid(axis='y', linestyle='--', alpha=0.7)\n",
    "plt.show()"
   ]
  },
  {
   "cell_type": "markdown",
   "metadata": {},
   "source": [
    "The distribution is **not** quintessentially right-skewed! According to the histogram, most bigrams are still emotionally mild, but compared to words less bigrams are emotionally neutral, i.e., bigrams tend to be more mildly associated with emotions than words. The little bump at the tail of the distribution shows that though people do tend to use more emotionally mild bigrams in tweets, they actually use the most emotionally intense bigrams *a bit more* than the second-most emotionally intense ones-but still, just a bit. \n",
    "\n",
    "Whereas for individual words, basically the more intense the word is the less it is used..."
   ]
  }
 ],
 "metadata": {
  "kernelspec": {
   "display_name": ".venv",
   "language": "python",
   "name": "python3"
  },
  "language_info": {
   "codemirror_mode": {
    "name": "ipython",
    "version": 3
   },
   "file_extension": ".py",
   "mimetype": "text/x-python",
   "name": "python",
   "nbconvert_exporter": "python",
   "pygments_lexer": "ipython3",
   "version": "3.12.7"
  }
 },
 "nbformat": 4,
 "nbformat_minor": 2
}
